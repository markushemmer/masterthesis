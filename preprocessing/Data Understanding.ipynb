{
 "cells": [
  {
   "cell_type": "markdown",
   "metadata": {},
   "source": [
    "# Data Understanding\n",
    "\n",
    "In dieser Phase beschreibt der Autor die zuerst die Herkunft und Beschaffungsweise der Daten. Daraufhin wird geprüft, ob diese den in der Zielsetzung formulierten Anforderungen gerecht werden."
   ]
  },
  {
   "cell_type": "markdown",
   "metadata": {},
   "source": [
    "## 1. Datenbeschaffung"
   ]
  },
  {
   "cell_type": "markdown",
   "metadata": {},
   "source": [
    "### 1.1 Grundlegende Informationen zum Datensatz\n",
    "\n",
    "<b>Datenbereitsteller: </b>Medizinische Medien Informations GmbH, Am Forsthaus Gravenbruch 7, 63263 Neu-Isenburg<br>\n",
    "<b>Datensatzbezeichnung: </b>MMI Pharmaindex - Rohdaten Release R3<br>\n",
    "<b>Version: </b>1.25<br>\n",
    "<b>Datum: </b>15.03.2019<br>\n",
    "\n",
    "<b>Struktur:</b><br>\n",
    "<code>├── MMI_RohdatenR3\n",
    "│   ├── doc\n",
    "│   └── mmiPharmindexR3_20190501MAIN.zip\n",
    "├── MMI_RohdatenR3_Fachinformation\n",
    "│   ├── doc\n",
    "│   └── mmiPharmindexR3_20190501SPC.zip\n",
    "├── MMI_RohdatenR3_Interaktionen\n",
    "│   ├── doc\n",
    "│   └── mmiPharmindexR3_20190501INTERACTION.zip\n",
    "└── MMI_RohdatenR3_Medplan\n",
    "    ├── mmiPharmindexR3_20190501MEDPLAN.zip\n",
    "    └── mmiPharmindexR3_MEDPLAN_Datenstruktur.pdf</code>\n",
    "\n",
    "Der Datensatz gliedert sich in der ersten Ebene auf die drei Unterordner MMI_RohdatenR3, -Fachinformationen, -Interaktionen und -Medplan auf. Darin enthalten ist zum einen ein doc-Ordner mit einer PDF, in der der jeweilige Datensatz beschrieben wird, zum anderen eine Zip-Datei in der die jeweiligen Datentabellen als CSV-Datei hinterlegt sind.\n",
    "\n",
    "Der Datensatz ist in dieser Form u.a. bei der Arzneimitteldatenbank <a href=\"https://gelbe-liste.de\">\"Gelbe Liste\"</a>im Einsatz."
   ]
  },
  {
   "cell_type": "markdown",
   "metadata": {},
   "source": [
    "### 1.2 Selektion der benötigten Dateien\n",
    "\n",
    "Für die Abbildung des Wechselwirkungschecks und einer generellen Übersicht werden nicht alle Dateien benötigt. Ausschließlich die Angaben zu den einzelnen Arzneimitteln, Herstellern und die Interaktionsdaten sind hierfür von Interesse. Erstere sind in die den Rohdaten_R3 (/mmiPharmindexR3_20190501MAIN) zu finden, die Interaktionsdaten in dem gleichnamigen Unterordner (/mmiPharmindexR3_20190501INTERACTION). Fachinformationen und der Medikationsplan sind nicht von Relevanz und werden daher nicht weiter betrachtet.\n",
    "\n",
    "Im Detail werden folgenden Tabellen innerhalb der Unterordner benötigt:\n",
    "\n",
    "<ol>\n",
    "    <li>MMI_RohdatenR3/mmiPharmindexR3_20190501MAIN</li>\n",
    "        <ul><li>PRODUCT.CSV</li>\n",
    "            <li>COMPANY.CSV</li>\n",
    "            <li>COMPANYADRESS.CSV</li>\n",
    "            <li>PRODUCT_COMPANY.CSV</li></ul>\n",
    "    <br/>\n",
    "    <li>MMI_RohdatenR3_Interaktionen/mmiPharmindexR3_20190501INTERACTION</li>\n",
    "        <ul><li>INTERACTION.CSV</li>\n",
    "            <li>INTERACTION_CLASS.CSV</li>\n",
    "            <li>PRODUCT_INTERACTION_CLASS.CSV</li></ul>\n",
    "</ol>"
   ]
  },
  {
   "cell_type": "markdown",
   "metadata": {},
   "source": [
    "### 1.3 Importieren von Python-Paketen"
   ]
  },
  {
   "cell_type": "code",
   "execution_count": 82,
   "metadata": {},
   "outputs": [],
   "source": [
    "import pandas as pd\n",
    "import csv"
   ]
  },
  {
   "cell_type": "markdown",
   "metadata": {},
   "source": [
    "### 1.4 Einlesen der benötigten Dateien"
   ]
  },
  {
   "cell_type": "code",
   "execution_count": 113,
   "metadata": {},
   "outputs": [],
   "source": [
    "# Funktion zum Einlesen\n",
    "def csv_to_df(csv):\n",
    "    df = pd.read_csv(csv, header=0, sep=';', quotechar='\"', decimal=',', low_memory=False)\n",
    "    return df\n",
    "\n",
    "# Produkte\n",
    "product = csv_to_df(\"../data/origin/PRODUCT.csv\")\n",
    "product.name = \"Produkte\"\n",
    "\n",
    "# Hersteller\n",
    "company = csv_to_df(\"../data/origin/COMPANY.csv\")\n",
    "company.name = \"Hersteller\"\n",
    "\n",
    "# Hersteller-Adresse\n",
    "company_adress = csv_to_df(\"../data/origin/COMPANYADDRESS.csv\")\n",
    "company_adress.name = \"Hersteller-Adresse\"\n",
    "\n",
    "# Schnittstelle Hersteller u. Produkt\n",
    "product_company = csv_to_df(\"../data/origin/PRODUCT_COMPANY.csv\")\n",
    "product_company.name = \"API-Produkt-Hersteller\"\n",
    "\n",
    "# Interaktionen\n",
    "interaction = csv_to_df(\"../data/origin/INTERACTION.csv\")\n",
    "interaction.name = \"Interaktionen\"\n",
    "\n",
    "# Interaktions-Klasse\n",
    "interaction_class = csv_to_df(\"../data/origin/INTERACTION_CLASS.csv\")\n",
    "interaction_class.name = \"Interaktionsklasse\"\n",
    "\n",
    "# Schnittstelle zw. Produkte u. Interaktionen\n",
    "product_interaction_class = csv_to_df(\"../data/origin/PRODUCT_INTERACTION_CLASS.csv\")\n",
    "product_interaction_class.name = \"API-Produkte-Interaktionen\""
   ]
  },
  {
   "cell_type": "markdown",
   "metadata": {},
   "source": [
    "### Ausgabe einer ersten Analyse"
   ]
  },
  {
   "cell_type": "code",
   "execution_count": 114,
   "metadata": {},
   "outputs": [
    {
     "name": "stdout",
     "output_type": "stream",
     "text": [
      "Produkte:\n",
      "<class 'pandas.core.frame.DataFrame'>\n",
      "RangeIndex: 545159 entries, 0 to 545158\n",
      "Data columns (total 18 columns):\n",
      "ID                               545159 non-null int64\n",
      "NAME                             545159 non-null object\n",
      "NAME_PLAIN                       545159 non-null object\n",
      "SORTNAME                         545159 non-null object\n",
      "ONMARKETDATE                     545159 non-null object\n",
      "REGISTRATION_NUMBER              0 non-null float64\n",
      "ACTIVESUBSTANCECOUNT             70414 non-null float64\n",
      "ORIGINALPRODUCTID                13064 non-null float64\n",
      "DISPENSINGTYPECATALOGID          545159 non-null int64\n",
      "DISPENSINGTYPECODE               545159 non-null int64\n",
      "PRODUCTFOODTYPECATALOGID         530051 non-null float64\n",
      "PRODUCTFOODTYPECODE              530051 non-null object\n",
      "PRODUCTDIETETICSTYPECATALOGID    545135 non-null float64\n",
      "PRODUCTDIETETICSTYPECODE         545135 non-null object\n",
      "PAO_TIMEUNITCATALOGID            2865 non-null float64\n",
      "PAO_TIMEUNITCODE                 2865 non-null object\n",
      "PAO_DESCRIPTION                  4330 non-null object\n",
      "PAO_COUNT                        2865 non-null float64\n",
      "dtypes: float64(7), int64(3), object(8)\n",
      "memory usage: 74.9+ MB\n",
      "None\n",
      "--------------------------------------------------------------------\n",
      "\n",
      "Hersteller:\n",
      "<class 'pandas.core.frame.DataFrame'>\n",
      "RangeIndex: 4316 entries, 0 to 4315\n",
      "Data columns (total 5 columns):\n",
      "ID                      4316 non-null int64\n",
      "COMPANYTYPECATALOGID    4316 non-null int64\n",
      "COMPANYTYPECODE         4316 non-null object\n",
      "SHORTNAME               4316 non-null object\n",
      "NAME                    4316 non-null object\n",
      "dtypes: int64(2), object(3)\n",
      "memory usage: 168.7+ KB\n",
      "None\n",
      "--------------------------------------------------------------------\n",
      "\n",
      "Hersteller-Adresse:\n",
      "<class 'pandas.core.frame.DataFrame'>\n",
      "RangeIndex: 4314 entries, 0 to 4313\n",
      "Data columns (total 16 columns):\n",
      "ID                      4314 non-null int64\n",
      "COMPANYID               4314 non-null int64\n",
      "SEQNO                   4314 non-null int64\n",
      "CONTACTNAME1            4314 non-null object\n",
      "CONTACTNAME2            37 non-null object\n",
      "COUNTRYCATALOGID        4234 non-null float64\n",
      "COUNTRYCODE             4234 non-null object\n",
      "ZIP                     4265 non-null object\n",
      "CITY                    4297 non-null object\n",
      "STREET                  4294 non-null object\n",
      "STREETNUMBER            4099 non-null object\n",
      "POBZIP                  627 non-null object\n",
      "POBCITY                 637 non-null object\n",
      "POBNUMBER               621 non-null object\n",
      "ADDRESSTYPECATALOGID    4314 non-null int64\n",
      "ADDRESSTYPECODE         4314 non-null object\n",
      "dtypes: float64(1), int64(4), object(11)\n",
      "memory usage: 539.4+ KB\n",
      "None\n",
      "--------------------------------------------------------------------\n",
      "\n",
      "API-Produkt-Hersteller:\n",
      "<class 'pandas.core.frame.DataFrame'>\n",
      "RangeIndex: 545407 entries, 0 to 545406\n",
      "Data columns (total 5 columns):\n",
      "PRODUCTID                      545407 non-null int64\n",
      "COMPANYID                      545407 non-null int64\n",
      "SORTNAME                       545407 non-null int64\n",
      "PRODUCTCOMPANYTYPECATALOGID    545407 non-null int64\n",
      "PRODUCTCOMPANYTYPECODE         545407 non-null object\n",
      "dtypes: int64(4), object(1)\n",
      "memory usage: 20.8+ MB\n",
      "None\n",
      "--------------------------------------------------------------------\n",
      "\n",
      "Interaktionen:\n",
      "<class 'pandas.core.frame.DataFrame'>\n",
      "RangeIndex: 7619 entries, 0 to 7618\n",
      "Data columns (total 62 columns):\n",
      "INTERACTIONCLASSID1     7619 non-null int64\n",
      "INTERACTIONCLASSID2     7619 non-null int64\n",
      "SEVERITYID              7619 non-null int64\n",
      "SEVERITY                7619 non-null object\n",
      "LIKELIHOODID            7619 non-null int64\n",
      "LIKELIHOOD              7619 non-null object\n",
      "PRECAUTION              7619 non-null object\n",
      "NOTES                   7619 non-null object\n",
      "REFERENCE               7619 non-null object\n",
      "FORWARDOBSERVATIONID    7619 non-null object\n",
      "REVERSEOBSERVATIONID    7619 non-null object\n",
      "FILL1                   3591 non-null object\n",
      "FILL2                   3591 non-null object\n",
      "FILL3                   3421 non-null object\n",
      "FILL4                   3421 non-null object\n",
      "FILL5                   3421 non-null object\n",
      "FILL6                   3420 non-null object\n",
      "FILL7                   3379 non-null object\n",
      "FILL8                   3374 non-null object\n",
      "FILL9                   3324 non-null object\n",
      "FILL10                  1788 non-null object\n",
      "FILL11                  1586 non-null object\n",
      "FILL12                  370 non-null object\n",
      "FILL13                  311 non-null object\n",
      "FILL14                  304 non-null object\n",
      "FILL15                  300 non-null object\n",
      "FILL16                  295 non-null object\n",
      "FILL17                  241 non-null object\n",
      "FILL18                  214 non-null object\n",
      "FILL19                  78 non-null object\n",
      "FILL20                  60 non-null object\n",
      "FILL21                  49 non-null object\n",
      "FILL22                  45 non-null object\n",
      "FILL23                  44 non-null object\n",
      "FILL24                  44 non-null object\n",
      "FILL25                  40 non-null object\n",
      "FILL26                  39 non-null object\n",
      "FILL27                  37 non-null object\n",
      "FILL28                  36 non-null object\n",
      "FILL29                  36 non-null object\n",
      "FILL30                  36 non-null object\n",
      "FILL31                  34 non-null object\n",
      "FILL32                  33 non-null object\n",
      "FILL33                  32 non-null object\n",
      "FILL34                  32 non-null object\n",
      "FILL35                  31 non-null object\n",
      "FILL36                  30 non-null object\n",
      "FILL37                  29 non-null object\n",
      "FILL38                  17 non-null object\n",
      "FILL39                  16 non-null object\n",
      "FILL40                  15 non-null object\n",
      "FILL41                  15 non-null object\n",
      "FILL42                  14 non-null object\n",
      "FILL43                  14 non-null object\n",
      "FILL44                  12 non-null object\n",
      "FILL45                  10 non-null object\n",
      "FILL46                  6 non-null object\n",
      "FILL47                  4 non-null object\n",
      "FILL48                  3 non-null object\n",
      "FILL49                  3 non-null object\n",
      "FILL50                  3 non-null float64\n",
      "FILL51                  3 non-null float64\n",
      "dtypes: float64(2), int64(4), object(56)\n",
      "memory usage: 3.6+ MB\n",
      "None\n",
      "--------------------------------------------------------------------\n",
      "\n",
      "Interaktionsklasse:\n",
      "<class 'pandas.core.frame.DataFrame'>\n",
      "RangeIndex: 1721 entries, 0 to 1720\n",
      "Data columns (total 2 columns):\n",
      "INTERACTIONCLASSID    1721 non-null int64\n",
      "NAME                  1721 non-null object\n",
      "dtypes: int64(1), object(1)\n",
      "memory usage: 27.0+ KB\n",
      "None\n",
      "--------------------------------------------------------------------\n",
      "\n",
      "API-Produkte-Interaktionen:\n",
      "<class 'pandas.core.frame.DataFrame'>\n",
      "RangeIndex: 142745 entries, 0 to 142744\n",
      "Data columns (total 2 columns):\n",
      "INTERACTIONCLASSID    142745 non-null int64\n",
      "PRODUCTID             142745 non-null int64\n",
      "dtypes: int64(2)\n",
      "memory usage: 2.2 MB\n",
      "None\n",
      "--------------------------------------------------------------------\n",
      "\n"
     ]
    }
   ],
   "source": [
    "all_data = [product, company, company_adress, product_company, interaction, \n",
    "            interaction_class, product_interaction_class]\n",
    "\n",
    "# Ausgabe einer ersten Analyse\n",
    "for df in all_data:\n",
    "    print(df.name + ':')\n",
    "    print(str(df.info()) + '\\n' +\n",
    "          '--------------------------------------------------------------------' + '\\n')"
   ]
  },
  {
   "cell_type": "markdown",
   "metadata": {},
   "source": [
    "### Bereinigung der Dataframes auf die relevanten Spalten"
   ]
  },
  {
   "cell_type": "code",
   "execution_count": 109,
   "metadata": {},
   "outputs": [],
   "source": [
    "# Produkte (hier reicht die ID, der Name und als zusätzl. Info das Markteintrittsdatum)\n",
    "product = product[['ID','NAME','ONMARKETDATE']]\n",
    "\n",
    "# Hersteller (ID, Name)\n",
    "company = company[['ID','NAME']]\n",
    "\n",
    "# Hersteller-Adresse (ID, COMPANYID, ZIP, STREET, STREETNUMBER)\n",
    "company_adress = company_adress[['ID', 'COMPANYID', 'ZIP', 'CITY', 'STREET', 'STREETNUMBER']]\n",
    "\n",
    "# Schnittstelle zw. Produkte und Hersteller\n",
    "product_company = product_company[['PRODUCTID', 'COMPANYID']]\n",
    "\n",
    "# Interaktionen (ID, Interaktionsklasse1, Interaktionsklasse2, Severity, Likelihood)\n",
    "interaction = interaction[['INTERACTIONCLASSID1', 'INTERACTIONCLASSID2', 'SEVERITY', 'LIKELIHOOD']]\n",
    "\n",
    "# ! Die beiden anderen Interaktionstabellen benötigen keine Veränderung !\n",
    "\n",
    "all_data_final = [product, company, company_adress, product_company, \n",
    "                  interaction, interaction_class, product_interaction_class]"
   ]
  },
  {
   "cell_type": "markdown",
   "metadata": {},
   "source": [
    "### Bereinigung von einzelnen Attributen und Zusammenfügen von Datensätzen"
   ]
  },
  {
   "cell_type": "code",
   "execution_count": 110,
   "metadata": {},
   "outputs": [
    {
     "name": "stdout",
     "output_type": "stream",
     "text": [
      "   ID                                    NAME ONMARKETDATE  PRODUCTID  \\\n",
      "0  14        Trental® 400 mg, Retardtabletten   1977-09-01         14   \n",
      "1  21         BETOPTIMA® 5 mg/ml Augentropfen   1985-09-01         21   \n",
      "2  30    Cyclopentolat Alcon® 1% Augentropfen   1998-04-01         30   \n",
      "3  32         DEXA-SINE® 1 mg/ml Augentropfen   1998-12-01         32   \n",
      "4  33  DEXA-SINE® SE 1,315 mg/ml Augentropfen   1989-12-01         33   \n",
      "\n",
      "   COMPANYID  \n",
      "0      15777  \n",
      "1        946  \n",
      "2         12  \n",
      "3        946  \n",
      "4        946  \n",
      "<class 'pandas.core.frame.DataFrame'>\n",
      "Int64Index: 545407 entries, 0 to 545406\n",
      "Data columns (total 5 columns):\n",
      "ID              545407 non-null int64\n",
      "NAME            545407 non-null object\n",
      "ONMARKETDATE    545407 non-null datetime64[ns]\n",
      "PRODUCTID       545407 non-null int64\n",
      "COMPANYID       545407 non-null int64\n",
      "dtypes: datetime64[ns](1), int64(3), object(1)\n",
      "memory usage: 25.0+ MB\n",
      "None\n"
     ]
    },
    {
     "name": "stderr",
     "output_type": "stream",
     "text": [
      "/Users/markushemmer/PycharmProjects/firstdjango/myvenv/lib/python3.7/site-packages/ipykernel_launcher.py:2: SettingWithCopyWarning: \n",
      "A value is trying to be set on a copy of a slice from a DataFrame.\n",
      "Try using .loc[row_indexer,col_indexer] = value instead\n",
      "\n",
      "See the caveats in the documentation: http://pandas.pydata.org/pandas-docs/stable/user_guide/indexing.html#returning-a-view-versus-a-copy\n",
      "  \n"
     ]
    }
   ],
   "source": [
    "# Anpassen des Datums bei ONMARKETDATE in product --> MySQL arbeitet mit amerikanischem Datumsformat\n",
    "product['ONMARKETDATE'] = pd.to_datetime(product['ONMARKETDATE'], format='%d.%m.%Y')\n",
    "\n",
    "# Merge aus den Produkten und Herstellern\n",
    "prod_comp_mrg = pd.merge(product, product_company, left_on='ID', right_on='PRODUCTID')\n",
    "print(prod_comp_mrg.head())\n",
    "print(prod_comp_mrg.info())"
   ]
  },
  {
   "cell_type": "code",
   "execution_count": 112,
   "metadata": {},
   "outputs": [
    {
     "name": "stdout",
     "output_type": "stream",
     "text": [
      "   ID                              NAME ONMARKETDATE  PRODUCTID  COMPANYID  \\\n",
      "0  14  Trental® 400 mg, Retardtabletten   1977-09-01         14      15777   \n",
      "1  14  Trental® 400 mg, Retardtabletten   1977-09-01         14      15777   \n",
      "2  21   BETOPTIMA® 5 mg/ml Augentropfen   1985-09-01         21        946   \n",
      "3  21   BETOPTIMA® 5 mg/ml Augentropfen   1985-09-01         21        946   \n",
      "4  21   BETOPTIMA® 5 mg/ml Augentropfen   1985-09-01         21        946   \n",
      "\n",
      "   INTERACTIONCLASSID  \n",
      "0               166.0  \n",
      "1           1001088.0  \n",
      "2                53.0  \n",
      "3           1000737.0  \n",
      "4           1000747.0  \n",
      "<class 'pandas.core.frame.DataFrame'>\n",
      "Int64Index: 656309 entries, 0 to 656308\n",
      "Data columns (total 6 columns):\n",
      "ID                    656309 non-null int64\n",
      "NAME                  656309 non-null object\n",
      "ONMARKETDATE          656309 non-null datetime64[ns]\n",
      "PRODUCTID             656309 non-null int64\n",
      "COMPANYID             656309 non-null int64\n",
      "INTERACTIONCLASSID    143834 non-null float64\n",
      "dtypes: datetime64[ns](1), float64(1), int64(3), object(1)\n",
      "memory usage: 35.1+ MB\n",
      "None\n"
     ]
    }
   ],
   "source": [
    "prod_comp_mrg = pd.merge(prod_comp_mrg, product_interaction_class, left_on='PRODUCTID', right_on='PRODUCTID', how='left')\n",
    "print(prod_comp_mrg.head())\n",
    "print(prod_comp_mrg.info())"
   ]
  },
  {
   "cell_type": "code",
   "execution_count": null,
   "metadata": {},
   "outputs": [],
   "source": [
    "prod_comp_mrg = prod_comp_mrg.drop('PRODUCTID', 1)"
   ]
  },
  {
   "cell_type": "code",
   "execution_count": null,
   "metadata": {},
   "outputs": [],
   "source": [
    "print(prod_comp_merge.head())"
   ]
  },
  {
   "cell_type": "code",
   "execution_count": null,
   "metadata": {},
   "outputs": [],
   "source": [
    "prod_comp_merge2 = pd.merge(prod_comp_merge, company[['ID','NAME']], left_on=\"COMPANYID\", right_on=\"ID\")\n",
    "prod_comp_merge2 = prod_comp_merge2[['ID_x','NAME_x','ONMARKETDATE','NAME_y']]\n",
    "prod_comp_merge2.columns = ['ID','Arzneimittel','Markteintrittsdatum','Hersteller']\n",
    "prod_comp_merge2 = prod_comp_merge2.sort_values(by='ID', ascending=True)\n",
    "print(prod_comp_merge2.head())"
   ]
  },
  {
   "cell_type": "code",
   "execution_count": null,
   "metadata": {},
   "outputs": [],
   "source": [
    "product = prod_comp_merge2"
   ]
  },
  {
   "cell_type": "code",
   "execution_count": 13,
   "metadata": {},
   "outputs": [
    {
     "name": "stdout",
     "output_type": "stream",
     "text": [
      "   ID                                        Hersteller Postleitzahl  \\\n",
      "0   1                  AbbVie Deutschland GmbH & Co. KG        65189   \n",
      "1   3  3M Medica Zweigniederlassung 3M Deutschland GmbH        41453   \n",
      "2   5                         aar Pharma GmbH u. Co. KG        42853   \n",
      "3  10                         AktivPharma GmbH & Co. KG        69412   \n",
      "4  12                                 Alcon Pharma GmbH        79108   \n",
      "\n",
      "       Stadt Straße und Hausnummer  \n",
      "0  Wiesbaden       Mainzer Str. 81  \n",
      "1      Neuss       Hammfelddamm 11  \n",
      "2  Remscheid          Alleestr. 11  \n",
      "3   Eberbach         Klausenweg 12  \n",
      "4   Freiburg      Blankreutestr. 1  \n"
     ]
    }
   ],
   "source": [
    "# Merge aus Company und Companyadress\n",
    "comp_adrs_mrg = pd.merge(company, company_adress, left_on='ID', right_on='COMPANYID')\n",
    "# Straße und Hausnummer zusammenführen\n",
    "comp_adrs_mrg['Straße und Hausnummer'] = comp_adrs_mrg['STREET'] +' '+ comp_adrs_mrg['STREETNUMBER']\n",
    "# Unbrauchbare Spalten entfernen\n",
    "comp_adrs_mrg = comp_adrs_mrg[['ID_x','NAME','ZIP','CITY','Straße und Hausnummer']]\n",
    "comp_adrs_mrg.columns = ['ID','Hersteller','Postleitzahl','Stadt','Straße und Hausnummer'] # Umbenennung der Spalten\n",
    "comp_adrs_mrg = comp_adrs_mrg.sort_values(by='ID', ascending=True) # Aufsteigend sortieren\n",
    "company = comp_adrs_mrg # Finale Zuordnung\n",
    "print(comp_adrs_mrg.head())"
   ]
  },
  {
   "cell_type": "code",
   "execution_count": null,
   "metadata": {},
   "outputs": [],
   "source": []
  },
  {
   "cell_type": "code",
   "execution_count": null,
   "metadata": {},
   "outputs": [],
   "source": [
    "# Fertigstellen der finalen csv-Dateien\n",
    "\n",
    "product.to_csv('../data/final/product_final.csv', sep=';', quoting=csv.QUOTE_NONNUMERIC, index=False)\n",
    "company.to_csv('../data/final/company_final.csv', sep=';', quoting=csv.QUOTE_NONNUMERIC, index=False)\n",
    "#company_adress.to_csv('../data/final/company_adress_final.csv', sep=';', quoting=csv.QUOTE_NONNUMERIC, index=False)\n",
    "#product_company.to_csv('../data/final/product_company_final.csv', sep=';', quoting=csv.QUOTE_NONNUMERIC, index=False)\n",
    "interaction.to_csv('../data/final/interaction_final.csv', sep=';', quoting=csv.QUOTE_NONNUMERIC, index=False)\n",
    "interaction_class.to_csv('../data/final/interaction_class_final.csv', sep=';', quoting=csv.QUOTE_NONNUMERIC, index=False)\n",
    "product_interaction_class.to_csv('../data/final/product_interaction_class_final.csv', sep=';', quoting=csv.QUOTE_NONNUMERIC, index=False)\n"
   ]
  }
 ],
 "metadata": {
  "kernelspec": {
   "display_name": "Python 3",
   "language": "python",
   "name": "python3"
  },
  "language_info": {
   "codemirror_mode": {
    "name": "ipython",
    "version": 3
   },
   "file_extension": ".py",
   "mimetype": "text/x-python",
   "name": "python",
   "nbconvert_exporter": "python",
   "pygments_lexer": "ipython3",
   "version": "3.7.2"
  }
 },
 "nbformat": 4,
 "nbformat_minor": 2
}
