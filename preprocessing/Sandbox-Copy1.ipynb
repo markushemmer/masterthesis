{
 "cells": [
  {
   "cell_type": "markdown",
   "metadata": {},
   "source": [
    "# EDA"
   ]
  },
  {
   "cell_type": "markdown",
   "metadata": {},
   "source": [
    "### Import der benötigten Pakete"
   ]
  },
  {
   "cell_type": "code",
   "execution_count": 1,
   "metadata": {},
   "outputs": [],
   "source": [
    "import pandas as pd\n",
    "import matplotlib.pyplot as plt\n",
    "import geopandas as gpd\n",
    "import descartes\n",
    "from wordcloud import WordCloud, STOPWORDS\n",
    "import numpy as np\n",
    "from sklearn.feature_extraction.text import CountVectorizer\n",
    "from collections import Counter"
   ]
  },
  {
   "cell_type": "markdown",
   "metadata": {},
   "source": [
    "### Einlesen der CSV-Dateien"
   ]
  },
  {
   "cell_type": "code",
   "execution_count": 2,
   "metadata": {},
   "outputs": [],
   "source": [
    "# Funktion zum Einlesen\n",
    "def csv_to_df(csv):\n",
    "    df = pd.read_csv(csv, header=0, sep=';', quotechar='\"', decimal=',', low_memory=False)\n",
    "    return df\n",
    "\n",
    "# Produkte\n",
    "product = csv_to_df(\"../data/origin/PRODUCT.csv\")\n",
    "product.name = \"Produkte\"\n",
    "\n",
    "# Hersteller\n",
    "company = csv_to_df(\"../data/origin/COMPANY.csv\")\n",
    "company.name = \"Hersteller\"\n",
    "\n",
    "# Hersteller-Adresse\n",
    "company_adress = csv_to_df(\"../data/origin/COMPANYADDRESS.csv\")\n",
    "company_adress.name = \"Hersteller-Adresse\"\n",
    "\n",
    "# Schnittstelle Hersteller u. Produkt\n",
    "product_company = csv_to_df(\"../data/origin/PRODUCT_COMPANY.csv\")\n",
    "product_company.name = \"API-Produkt-Hersteller\"\n",
    "\n",
    "# Interaktionen\n",
    "interaction = csv_to_df(\"../data/origin/INTERACTION.CSV\")\n",
    "interaction.name = \"Interaktionen\"\n",
    "\n",
    "# Interaktions-Klasse\n",
    "interaction_class = csv_to_df(\"../data/origin/INTERACTION_CLASS.csv\")\n",
    "interaction_class.name = \"Interaktionsklasse\"\n",
    "\n",
    "# Schnittstelle zw. Produkte u. Interaktionen\n",
    "product_interaction_class = csv_to_df(\"../data/origin/PRODUCT_INTERACTION_CLASS.csv\")\n",
    "product_interaction_class.name = \"API-Produkte-Interaktionen\""
   ]
  },
  {
   "cell_type": "markdown",
   "metadata": {},
   "source": [
    "### Bereinigung der Dataframes auf die relevanten Spalten"
   ]
  },
  {
   "cell_type": "code",
   "execution_count": 3,
   "metadata": {},
   "outputs": [],
   "source": [
    "# Produkte (hier reicht die ID, der Name und als zusätzl. Info das Markteintrittsdatum)\n",
    "product = product[['ID','NAME','ONMARKETDATE']]\n",
    "\n",
    "# Hersteller (ID, Name)\n",
    "company = company[['ID','NAME']]\n",
    "\n",
    "# Hersteller-Adresse (ID, COMPANYID, ZIP, STREET, STREETNUMBER)\n",
    "company_adress = company_adress[['ID', 'COMPANYID', 'ZIP', 'CITY', 'STREET', 'STREETNUMBER']]\n",
    "\n",
    "# Schnittstelle zw. Produkte und Hersteller\n",
    "product_company = product_company[['PRODUCTID', 'COMPANYID']]\n",
    "\n",
    "# Interaktionen (ID, Interaktionsklasse1, Interaktionsklasse2, Severity, Likelihood)\n",
    "interaction = interaction[['INTERACTIONCLASSID1', 'INTERACTIONCLASSID2', 'SEVERITY', 'LIKELIHOOD']]"
   ]
  },
  {
   "cell_type": "markdown",
   "metadata": {},
   "source": [
    "## Produkt / Arzneimittel\n",
    "\n",
    "<b>Offene Fragen:</b>\n",
    "1. Betrachtung über den Zeitraum: \n",
    "    - Wann kamen die meisten Produkte auf den Markt\n",
    "    - Durchschnittle Zahlen und Marktwachstum\n",
    "2. Art der Produkte\n",
    "    - Welche Art von Produkten gibt es?\n",
    "    - Welche davon stechen heraus?"
   ]
  },
  {
   "cell_type": "code",
   "execution_count": 4,
   "metadata": {},
   "outputs": [],
   "source": [
    "# Anpassen des Datums bei ONMARKETDATE in product --> MySQL arbeitet mit amerikanischem Datumsformat\n",
    "product['ONMARKETDATE'] = pd.to_datetime(product['ONMARKETDATE'], format='%d.%m.%Y')"
   ]
  },
  {
   "cell_type": "code",
   "execution_count": 5,
   "metadata": {},
   "outputs": [
    {
     "data": {
      "text/html": [
       "<div>\n",
       "<style scoped>\n",
       "    .dataframe tbody tr th:only-of-type {\n",
       "        vertical-align: middle;\n",
       "    }\n",
       "\n",
       "    .dataframe tbody tr th {\n",
       "        vertical-align: top;\n",
       "    }\n",
       "\n",
       "    .dataframe thead th {\n",
       "        text-align: right;\n",
       "    }\n",
       "</style>\n",
       "<table border=\"1\" class=\"dataframe\">\n",
       "  <thead>\n",
       "    <tr style=\"text-align: right;\">\n",
       "      <th></th>\n",
       "      <th>count</th>\n",
       "    </tr>\n",
       "    <tr>\n",
       "      <th>ONMARKETDATE</th>\n",
       "      <th></th>\n",
       "    </tr>\n",
       "  </thead>\n",
       "  <tbody>\n",
       "    <tr>\n",
       "      <th>2014</th>\n",
       "      <td>31944</td>\n",
       "    </tr>\n",
       "    <tr>\n",
       "      <th>2015</th>\n",
       "      <td>29774</td>\n",
       "    </tr>\n",
       "    <tr>\n",
       "      <th>2016</th>\n",
       "      <td>47895</td>\n",
       "    </tr>\n",
       "    <tr>\n",
       "      <th>2017</th>\n",
       "      <td>89669</td>\n",
       "    </tr>\n",
       "    <tr>\n",
       "      <th>2018</th>\n",
       "      <td>94006</td>\n",
       "    </tr>\n",
       "  </tbody>\n",
       "</table>\n",
       "</div>"
      ],
      "text/plain": [
       "              count\n",
       "ONMARKETDATE       \n",
       "2014          31944\n",
       "2015          29774\n",
       "2016          47895\n",
       "2017          89669\n",
       "2018          94006"
      ]
     },
     "execution_count": 5,
     "metadata": {},
     "output_type": "execute_result"
    }
   ],
   "source": [
    "product_eda = product #eigenes DF für Analysezweck\n",
    "product_eda['ONMARKETDATE'] = product_eda['ONMARKETDATE'].dt.year #Datum auf Jahr beschränken\n",
    "product_eda = product_eda.groupby(product_eda['ONMARKETDATE'])['ID'].agg(['count']) #Nach Jahr gruppieren und aufsummieren\n",
    "product_eda = product_eda.drop(2019) # Jahr 2019 entfernen\n",
    "product_eda.tail() #Ausgabe zur Überprüfung"
   ]
  },
  {
   "cell_type": "code",
   "execution_count": 6,
   "metadata": {
    "scrolled": true
   },
   "outputs": [
    {
     "data": {
      "text/html": [
       "<div>\n",
       "<style scoped>\n",
       "    .dataframe tbody tr th:only-of-type {\n",
       "        vertical-align: middle;\n",
       "    }\n",
       "\n",
       "    .dataframe tbody tr th {\n",
       "        vertical-align: top;\n",
       "    }\n",
       "\n",
       "    .dataframe thead th {\n",
       "        text-align: right;\n",
       "    }\n",
       "</style>\n",
       "<table border=\"1\" class=\"dataframe\">\n",
       "  <thead>\n",
       "    <tr style=\"text-align: right;\">\n",
       "      <th></th>\n",
       "      <th>Arzneimittel</th>\n",
       "    </tr>\n",
       "    <tr>\n",
       "      <th>ONMARKETDATE</th>\n",
       "      <th></th>\n",
       "    </tr>\n",
       "  </thead>\n",
       "  <tbody>\n",
       "    <tr>\n",
       "      <th>2018</th>\n",
       "      <td>94006</td>\n",
       "    </tr>\n",
       "    <tr>\n",
       "      <th>2017</th>\n",
       "      <td>89669</td>\n",
       "    </tr>\n",
       "    <tr>\n",
       "      <th>2016</th>\n",
       "      <td>47895</td>\n",
       "    </tr>\n",
       "    <tr>\n",
       "      <th>2014</th>\n",
       "      <td>31944</td>\n",
       "    </tr>\n",
       "    <tr>\n",
       "      <th>2015</th>\n",
       "      <td>29774</td>\n",
       "    </tr>\n",
       "    <tr>\n",
       "      <th>2012</th>\n",
       "      <td>27824</td>\n",
       "    </tr>\n",
       "    <tr>\n",
       "      <th>2004</th>\n",
       "      <td>26952</td>\n",
       "    </tr>\n",
       "    <tr>\n",
       "      <th>2013</th>\n",
       "      <td>19676</td>\n",
       "    </tr>\n",
       "    <tr>\n",
       "      <th>2011</th>\n",
       "      <td>19169</td>\n",
       "    </tr>\n",
       "    <tr>\n",
       "      <th>2010</th>\n",
       "      <td>17907</td>\n",
       "    </tr>\n",
       "  </tbody>\n",
       "</table>\n",
       "</div>"
      ],
      "text/plain": [
       "              Arzneimittel\n",
       "ONMARKETDATE              \n",
       "2018                 94006\n",
       "2017                 89669\n",
       "2016                 47895\n",
       "2014                 31944\n",
       "2015                 29774\n",
       "2012                 27824\n",
       "2004                 26952\n",
       "2013                 19676\n",
       "2011                 19169\n",
       "2010                 17907"
      ]
     },
     "execution_count": 6,
     "metadata": {},
     "output_type": "execute_result"
    }
   ],
   "source": [
    "product_eda.columns = ['Arzneimittel'] #Neue Spalte umbenennen\n",
    "# Wann kamen wie viele Medikmante auf den Markt?\n",
    "product_eda.sort_values(by='Arzneimittel', ascending=False).head(10)"
   ]
  },
  {
   "cell_type": "code",
   "execution_count": 7,
   "metadata": {},
   "outputs": [
    {
     "name": "stdout",
     "output_type": "stream",
     "text": [
      "       Arzneimittel\n",
      "count     82.000000\n",
      "mean    6369.682927\n",
      "std    16329.984554\n",
      "min        1.000000\n",
      "25%       11.000000\n",
      "50%       46.500000\n",
      "75%     2338.250000\n",
      "max    94006.000000\n"
     ]
    },
    {
     "data": {
      "image/png": "[encoded data removed]",
      "text/plain": [
       "<Figure size 504x360 with 1 Axes>"
      ]
     },
     "metadata": {
      "needs_background": "light"
     },
     "output_type": "display_data"
    }
   ],
   "source": [
    "product_plot = product_eda.plot(linewidth=2.5, figsize=(7,5))\n",
    "product_plot.set(ylabel='Anzahl Arzneimittel',\n",
    "            xlabel='Jahr', title='Entwicklung der Produktmenge von 1900 bis 2018')\n",
    "\n",
    "print(product_eda.describe())"
   ]
  },
  {
   "cell_type": "code",
   "execution_count": 8,
   "metadata": {},
   "outputs": [
    {
     "ename": "ValueError",
     "evalue": "time data '1977' does not match format '%d.%m.%Y' (match)",
     "output_type": "error",
     "traceback": [
      "\u001b[0;31m---------------------------------------------------------------------------\u001b[0m",
      "\u001b[0;31mTypeError\u001b[0m                                 Traceback (most recent call last)",
      "\u001b[0;32m~/PycharmProjects/firstdjango/myvenv/lib/python3.7/site-packages/pandas/core/tools/datetimes.py\u001b[0m in \u001b[0;36m_convert_listlike_datetimes\u001b[0;34m(arg, box, format, name, tz, unit, errors, infer_datetime_format, dayfirst, yearfirst, exact)\u001b[0m\n\u001b[1;32m    444\u001b[0m             \u001b[0;32mtry\u001b[0m\u001b[0;34m:\u001b[0m\u001b[0;34m\u001b[0m\u001b[0;34m\u001b[0m\u001b[0m\n\u001b[0;32m--> 445\u001b[0;31m                 \u001b[0mvalues\u001b[0m\u001b[0;34m,\u001b[0m \u001b[0mtz\u001b[0m \u001b[0;34m=\u001b[0m \u001b[0mconversion\u001b[0m\u001b[0;34m.\u001b[0m\u001b[0mdatetime_to_datetime64\u001b[0m\u001b[0;34m(\u001b[0m\u001b[0marg\u001b[0m\u001b[0;34m)\u001b[0m\u001b[0;34m\u001b[0m\u001b[0;34m\u001b[0m\u001b[0m\n\u001b[0m\u001b[1;32m    446\u001b[0m                 \u001b[0;32mreturn\u001b[0m \u001b[0mDatetimeIndex\u001b[0m\u001b[0;34m.\u001b[0m\u001b[0m_simple_new\u001b[0m\u001b[0;34m(\u001b[0m\u001b[0mvalues\u001b[0m\u001b[0;34m,\u001b[0m \u001b[0mname\u001b[0m\u001b[0;34m=\u001b[0m\u001b[0mname\u001b[0m\u001b[0;34m,\u001b[0m \u001b[0mtz\u001b[0m\u001b[0;34m=\u001b[0m\u001b[0mtz\u001b[0m\u001b[0;34m)\u001b[0m\u001b[0;34m\u001b[0m\u001b[0;34m\u001b[0m\u001b[0m\n",
      "\u001b[0;32mpandas/_libs/tslibs/conversion.pyx\u001b[0m in \u001b[0;36mpandas._libs.tslibs.conversion.datetime_to_datetime64\u001b[0;34m()\u001b[0m\n",
      "\u001b[0;31mTypeError\u001b[0m: Unrecognized value type: <class 'int'>",
      "\nDuring handling of the above exception, another exception occurred:\n",
      "\u001b[0;31mValueError\u001b[0m                                Traceback (most recent call last)",
      "\u001b[0;32m<ipython-input-8-ca678fdf8627>\u001b[0m in \u001b[0;36m<module>\u001b[0;34m\u001b[0m\n\u001b[1;32m      1\u001b[0m \u001b[0;31m# Anpassen des Datums bei ONMARKETDATE in product --> MySQL arbeitet mit amerikanischem Datumsformat\u001b[0m\u001b[0;34m\u001b[0m\u001b[0;34m\u001b[0m\u001b[0;34m\u001b[0m\u001b[0m\n\u001b[0;32m----> 2\u001b[0;31m \u001b[0mproduct\u001b[0m\u001b[0;34m[\u001b[0m\u001b[0;34m'ONMARKETDATE'\u001b[0m\u001b[0;34m]\u001b[0m \u001b[0;34m=\u001b[0m \u001b[0mpd\u001b[0m\u001b[0;34m.\u001b[0m\u001b[0mto_datetime\u001b[0m\u001b[0;34m(\u001b[0m\u001b[0mproduct\u001b[0m\u001b[0;34m[\u001b[0m\u001b[0;34m'ONMARKETDATE'\u001b[0m\u001b[0;34m]\u001b[0m\u001b[0;34m,\u001b[0m \u001b[0mformat\u001b[0m\u001b[0;34m=\u001b[0m\u001b[0;34m'%d.%m.%Y'\u001b[0m\u001b[0;34m)\u001b[0m\u001b[0;34m\u001b[0m\u001b[0;34m\u001b[0m\u001b[0m\n\u001b[0m\u001b[1;32m      3\u001b[0m \u001b[0;34m\u001b[0m\u001b[0m\n\u001b[1;32m      4\u001b[0m \u001b[0mproduct_eda_2\u001b[0m \u001b[0;34m=\u001b[0m \u001b[0mproduct\u001b[0m \u001b[0;31m#eigenes DF für Analysezweck\u001b[0m\u001b[0;34m\u001b[0m\u001b[0;34m\u001b[0m\u001b[0m\n\u001b[1;32m      5\u001b[0m \u001b[0mproduct_eda_2\u001b[0m\u001b[0;34m[\u001b[0m\u001b[0;34m'ONMARKETDATE'\u001b[0m\u001b[0;34m]\u001b[0m \u001b[0;34m=\u001b[0m \u001b[0mproduct_eda_2\u001b[0m\u001b[0;34m[\u001b[0m\u001b[0;34m'ONMARKETDATE'\u001b[0m\u001b[0;34m]\u001b[0m\u001b[0;34m.\u001b[0m\u001b[0mdt\u001b[0m\u001b[0;34m.\u001b[0m\u001b[0mmonth\u001b[0m \u001b[0;31m#Datum auf Jahr beschränken\u001b[0m\u001b[0;34m\u001b[0m\u001b[0;34m\u001b[0m\u001b[0m\n",
      "\u001b[0;32m~/PycharmProjects/firstdjango/myvenv/lib/python3.7/site-packages/pandas/util/_decorators.py\u001b[0m in \u001b[0;36mwrapper\u001b[0;34m(*args, **kwargs)\u001b[0m\n\u001b[1;32m    206\u001b[0m                 \u001b[0;32melse\u001b[0m\u001b[0;34m:\u001b[0m\u001b[0;34m\u001b[0m\u001b[0;34m\u001b[0m\u001b[0m\n\u001b[1;32m    207\u001b[0m                     \u001b[0mkwargs\u001b[0m\u001b[0;34m[\u001b[0m\u001b[0mnew_arg_name\u001b[0m\u001b[0;34m]\u001b[0m \u001b[0;34m=\u001b[0m \u001b[0mnew_arg_value\u001b[0m\u001b[0;34m\u001b[0m\u001b[0;34m\u001b[0m\u001b[0m\n\u001b[0;32m--> 208\u001b[0;31m             \u001b[0;32mreturn\u001b[0m \u001b[0mfunc\u001b[0m\u001b[0;34m(\u001b[0m\u001b[0;34m*\u001b[0m\u001b[0margs\u001b[0m\u001b[0;34m,\u001b[0m \u001b[0;34m**\u001b[0m\u001b[0mkwargs\u001b[0m\u001b[0;34m)\u001b[0m\u001b[0;34m\u001b[0m\u001b[0;34m\u001b[0m\u001b[0m\n\u001b[0m\u001b[1;32m    209\u001b[0m \u001b[0;34m\u001b[0m\u001b[0m\n\u001b[1;32m    210\u001b[0m         \u001b[0;32mreturn\u001b[0m \u001b[0mwrapper\u001b[0m\u001b[0;34m\u001b[0m\u001b[0;34m\u001b[0m\u001b[0m\n",
      "\u001b[0;32m~/PycharmProjects/firstdjango/myvenv/lib/python3.7/site-packages/pandas/core/tools/datetimes.py\u001b[0m in \u001b[0;36mto_datetime\u001b[0;34m(arg, errors, dayfirst, yearfirst, utc, box, format, exact, unit, infer_datetime_format, origin, cache)\u001b[0m\n\u001b[1;32m    769\u001b[0m                 \u001b[0mresult\u001b[0m \u001b[0;34m=\u001b[0m \u001b[0mresult\u001b[0m\u001b[0;34m.\u001b[0m\u001b[0mtz_localize\u001b[0m\u001b[0;34m(\u001b[0m\u001b[0mtz\u001b[0m\u001b[0;34m)\u001b[0m\u001b[0;34m\u001b[0m\u001b[0;34m\u001b[0m\u001b[0m\n\u001b[1;32m    770\u001b[0m     \u001b[0;32melif\u001b[0m \u001b[0misinstance\u001b[0m\u001b[0;34m(\u001b[0m\u001b[0marg\u001b[0m\u001b[0;34m,\u001b[0m \u001b[0mABCSeries\u001b[0m\u001b[0;34m)\u001b[0m\u001b[0;34m:\u001b[0m\u001b[0;34m\u001b[0m\u001b[0;34m\u001b[0m\u001b[0m\n\u001b[0;32m--> 771\u001b[0;31m         \u001b[0mcache_array\u001b[0m \u001b[0;34m=\u001b[0m \u001b[0m_maybe_cache\u001b[0m\u001b[0;34m(\u001b[0m\u001b[0marg\u001b[0m\u001b[0;34m,\u001b[0m \u001b[0mformat\u001b[0m\u001b[0;34m,\u001b[0m \u001b[0mcache\u001b[0m\u001b[0;34m,\u001b[0m \u001b[0mconvert_listlike\u001b[0m\u001b[0;34m)\u001b[0m\u001b[0;34m\u001b[0m\u001b[0;34m\u001b[0m\u001b[0m\n\u001b[0m\u001b[1;32m    772\u001b[0m         \u001b[0;32mif\u001b[0m \u001b[0;32mnot\u001b[0m \u001b[0mcache_array\u001b[0m\u001b[0;34m.\u001b[0m\u001b[0mempty\u001b[0m\u001b[0;34m:\u001b[0m\u001b[0;34m\u001b[0m\u001b[0;34m\u001b[0m\u001b[0m\n\u001b[1;32m    773\u001b[0m             \u001b[0mresult\u001b[0m \u001b[0;34m=\u001b[0m \u001b[0marg\u001b[0m\u001b[0;34m.\u001b[0m\u001b[0mmap\u001b[0m\u001b[0;34m(\u001b[0m\u001b[0mcache_array\u001b[0m\u001b[0;34m)\u001b[0m\u001b[0;34m\u001b[0m\u001b[0;34m\u001b[0m\u001b[0m\n",
      "\u001b[0;32m~/PycharmProjects/firstdjango/myvenv/lib/python3.7/site-packages/pandas/core/tools/datetimes.py\u001b[0m in \u001b[0;36m_maybe_cache\u001b[0;34m(arg, format, cache, convert_listlike)\u001b[0m\n\u001b[1;32m    154\u001b[0m         \u001b[0munique_dates\u001b[0m \u001b[0;34m=\u001b[0m \u001b[0munique\u001b[0m\u001b[0;34m(\u001b[0m\u001b[0marg\u001b[0m\u001b[0;34m)\u001b[0m\u001b[0;34m\u001b[0m\u001b[0;34m\u001b[0m\u001b[0m\n\u001b[1;32m    155\u001b[0m         \u001b[0;32mif\u001b[0m \u001b[0mlen\u001b[0m\u001b[0;34m(\u001b[0m\u001b[0munique_dates\u001b[0m\u001b[0;34m)\u001b[0m \u001b[0;34m<\u001b[0m \u001b[0mlen\u001b[0m\u001b[0;34m(\u001b[0m\u001b[0marg\u001b[0m\u001b[0;34m)\u001b[0m\u001b[0;34m:\u001b[0m\u001b[0;34m\u001b[0m\u001b[0;34m\u001b[0m\u001b[0m\n\u001b[0;32m--> 156\u001b[0;31m             \u001b[0mcache_dates\u001b[0m \u001b[0;34m=\u001b[0m \u001b[0mconvert_listlike\u001b[0m\u001b[0;34m(\u001b[0m\u001b[0munique_dates\u001b[0m\u001b[0;34m,\u001b[0m \u001b[0;32mTrue\u001b[0m\u001b[0;34m,\u001b[0m \u001b[0mformat\u001b[0m\u001b[0;34m)\u001b[0m\u001b[0;34m\u001b[0m\u001b[0;34m\u001b[0m\u001b[0m\n\u001b[0m\u001b[1;32m    157\u001b[0m             \u001b[0mcache_array\u001b[0m \u001b[0;34m=\u001b[0m \u001b[0mSeries\u001b[0m\u001b[0;34m(\u001b[0m\u001b[0mcache_dates\u001b[0m\u001b[0;34m,\u001b[0m \u001b[0mindex\u001b[0m\u001b[0;34m=\u001b[0m\u001b[0munique_dates\u001b[0m\u001b[0;34m)\u001b[0m\u001b[0;34m\u001b[0m\u001b[0;34m\u001b[0m\u001b[0m\n\u001b[1;32m    158\u001b[0m     \u001b[0;32mreturn\u001b[0m \u001b[0mcache_array\u001b[0m\u001b[0;34m\u001b[0m\u001b[0;34m\u001b[0m\u001b[0m\n",
      "\u001b[0;32m~/PycharmProjects/firstdjango/myvenv/lib/python3.7/site-packages/pandas/core/tools/datetimes.py\u001b[0m in \u001b[0;36m_convert_listlike_datetimes\u001b[0;34m(arg, box, format, name, tz, unit, errors, infer_datetime_format, dayfirst, yearfirst, exact)\u001b[0m\n\u001b[1;32m    446\u001b[0m                 \u001b[0;32mreturn\u001b[0m \u001b[0mDatetimeIndex\u001b[0m\u001b[0;34m.\u001b[0m\u001b[0m_simple_new\u001b[0m\u001b[0;34m(\u001b[0m\u001b[0mvalues\u001b[0m\u001b[0;34m,\u001b[0m \u001b[0mname\u001b[0m\u001b[0;34m=\u001b[0m\u001b[0mname\u001b[0m\u001b[0;34m,\u001b[0m \u001b[0mtz\u001b[0m\u001b[0;34m=\u001b[0m\u001b[0mtz\u001b[0m\u001b[0;34m)\u001b[0m\u001b[0;34m\u001b[0m\u001b[0;34m\u001b[0m\u001b[0m\n\u001b[1;32m    447\u001b[0m             \u001b[0;32mexcept\u001b[0m \u001b[0;34m(\u001b[0m\u001b[0mValueError\u001b[0m\u001b[0;34m,\u001b[0m \u001b[0mTypeError\u001b[0m\u001b[0;34m)\u001b[0m\u001b[0;34m:\u001b[0m\u001b[0;34m\u001b[0m\u001b[0;34m\u001b[0m\u001b[0m\n\u001b[0;32m--> 448\u001b[0;31m                 \u001b[0;32mraise\u001b[0m \u001b[0me\u001b[0m\u001b[0;34m\u001b[0m\u001b[0;34m\u001b[0m\u001b[0m\n\u001b[0m\u001b[1;32m    449\u001b[0m \u001b[0;34m\u001b[0m\u001b[0m\n\u001b[1;32m    450\u001b[0m     \u001b[0;32mif\u001b[0m \u001b[0mresult\u001b[0m \u001b[0;32mis\u001b[0m \u001b[0;32mNone\u001b[0m\u001b[0;34m:\u001b[0m\u001b[0;34m\u001b[0m\u001b[0;34m\u001b[0m\u001b[0m\n",
      "\u001b[0;32m~/PycharmProjects/firstdjango/myvenv/lib/python3.7/site-packages/pandas/core/tools/datetimes.py\u001b[0m in \u001b[0;36m_convert_listlike_datetimes\u001b[0;34m(arg, box, format, name, tz, unit, errors, infer_datetime_format, dayfirst, yearfirst, exact)\u001b[0m\n\u001b[1;32m    411\u001b[0m                 \u001b[0;32mtry\u001b[0m\u001b[0;34m:\u001b[0m\u001b[0;34m\u001b[0m\u001b[0;34m\u001b[0m\u001b[0m\n\u001b[1;32m    412\u001b[0m                     result, timezones = array_strptime(\n\u001b[0;32m--> 413\u001b[0;31m                         \u001b[0marg\u001b[0m\u001b[0;34m,\u001b[0m \u001b[0mformat\u001b[0m\u001b[0;34m,\u001b[0m \u001b[0mexact\u001b[0m\u001b[0;34m=\u001b[0m\u001b[0mexact\u001b[0m\u001b[0;34m,\u001b[0m \u001b[0merrors\u001b[0m\u001b[0;34m=\u001b[0m\u001b[0merrors\u001b[0m\u001b[0;34m\u001b[0m\u001b[0;34m\u001b[0m\u001b[0m\n\u001b[0m\u001b[1;32m    414\u001b[0m                     )\n\u001b[1;32m    415\u001b[0m                     \u001b[0;32mif\u001b[0m \u001b[0;34m\"%Z\"\u001b[0m \u001b[0;32min\u001b[0m \u001b[0mformat\u001b[0m \u001b[0;32mor\u001b[0m \u001b[0;34m\"%z\"\u001b[0m \u001b[0;32min\u001b[0m \u001b[0mformat\u001b[0m\u001b[0;34m:\u001b[0m\u001b[0;34m\u001b[0m\u001b[0;34m\u001b[0m\u001b[0m\n",
      "\u001b[0;32mpandas/_libs/tslibs/strptime.pyx\u001b[0m in \u001b[0;36mpandas._libs.tslibs.strptime.array_strptime\u001b[0;34m()\u001b[0m\n",
      "\u001b[0;31mValueError\u001b[0m: time data '1977' does not match format '%d.%m.%Y' (match)"
     ]
    }
   ],
   "source": [
    "# Anpassen des Datums bei ONMARKETDATE in product --> MySQL arbeitet mit amerikanischem Datumsformat\n",
    "product['ONMARKETDATE'] = pd.to_datetime(product['ONMARKETDATE'], format='%d.%m.%Y')\n",
    "\n",
    "product_eda_2 = product #eigenes DF für Analysezweck\n",
    "product_eda_2['ONMARKETDATE'] = product_eda_2['ONMARKETDATE'].dt.month #Datum auf Jahr beschränken\n",
    "#Nach Jahr gruppieren und aufsummieren\n",
    "product_eda_2 = product_eda_2.groupby(product_eda_2['ONMARKETDATE'])['ID'].agg(['count']) "
   ]
  },
  {
   "cell_type": "code",
   "execution_count": null,
   "metadata": {},
   "outputs": [],
   "source": [
    "product_eda_2.rename(columns={'count':'Anzahl'})\n",
    "product_eda_2.reset_index()"
   ]
  },
  {
   "cell_type": "code",
   "execution_count": null,
   "metadata": {},
   "outputs": [],
   "source": [
    "monate = ('Januar','Februar','März','April','Mai','Juni','Juli','August','September','Oktober','November','Dezember')\n",
    "product_eda_2['Monat'] = monate\n",
    "plot = product_eda_2.plot.line(y='Anzahl', x='Monat', linewidth=2.5, xticks=range(0, 12), figsize=(12,5), style='o-')\n",
    "\n",
    "plot.set(ylabel='Anzahl Arzneimittel',\n",
    "            xlabel='Monat', title='Aufsummierte Gesamtmenge an veröffentlichten Produkten pro Monat')"
   ]
  },
  {
   "cell_type": "markdown",
   "metadata": {},
   "source": [
    "### Welche Arten von Produkten gibt es?\n",
    "\n",
    "1. Untersuchung der Produktnamen anhand einer Wordcloud"
   ]
  },
  {
   "cell_type": "code",
   "execution_count": null,
   "metadata": {},
   "outputs": [],
   "source": [
    "# 1. WordCloud\n",
    "text = \" \".join(word for word in product.NAME)\n",
    "\n",
    "# Stopwords anlegen\n",
    "stopwords = set(STOPWORDS)\n",
    "stopwords.update(['mg','ml','einer','zur','Anwendung','mg','Einheit','Herstellung','Sp','sch','VTimp','HRW','schwarz',\n",
    "                'subkutanen','forte','DHU','mediven','CCL1','CCL2','eleg','JUZO','BELSANA','comf','KKL2','Fuß',\n",
    "                'COMPRESSANA','kurz','mit','AG','ohne','kompr','Gudjons','plus','SPIRIT','CCL3','LT','K2','groß',\n",
    "                'AD','SP','K2','pet','SOFT','JOBST','NHB','medi','magenta','ELEG','DYNAMIC','K1','sensitiv','Hüftb',\n",
    "                'K1','AGK','EHB','REG','SPITZE','laftofa','kkl','sigvaris','VenoTrain','balancehr','KL1','HRW','vet',\n",
    "                'Spagyros','Dilution','SoSp','LM','SPRINg','NoB','pl','Fuss','Haftrand','Motiv','5cm','NoM','CL',\n",
    "                'Wala','ku','MfB','MOTIV','BALANCEHAFTR','WEIT','Fo','la','OSP','GR','MAGIC','AGEK','TBs','BW','ca',\n",
    "                'Staufen','LEGANZA','KL2','FINO','TBp','vg','TBe','TBb','6cm','KKL1','mv','SCHM','DHBM','Sp6','mode',\n",
    "                'Maxis','Micro','CC Pharma','Micro CCL','DE LUXE','HbdNg','VTsof','BALANCEHAFTRAND','SCHMAL','Sp2',\n",
    "                'DELUXE','CC','Pharma','Ecosana','Comfort','DE','LUXE','SPH','CHR','VENEX','DUR','ge','und','CCL',\n",
    "                'duomed','basic','gFS','HbdNo','oFS','Lastofa','SHB','DYNAM','Suprima','gF','cm','NHBM','SSklFu',\n",
    "                'Marine','klei','sw','oS','rose','amp','Sp4','HRMW','cara','VIOL','VENESSO','HBF','AGH','Venosan',\n",
    "                'Inkontinenzhose','XXL','Kortikalis','GPH','Solus','cashmere','Sp3','K3','Sp7','LPS','HR','K2MS',\n",
    "                'SILK','Mepilex','Opaque1','Noppe','Monofil','hrm','spagyra','ureterschiene','nova','haemato',\n",
    "                'linea','blau','grün','rot','bronze','orange','gelb','mondscheinblau','pink','BB','Hauschka','AGKK',\n",
    "                'Hyphen','fashy','Homeda','elegance','ho','Komplex','Roche','zum','sand','Anthroposan','black',\n",
    "                'NHR','Junek','eco','TRACOE','Screw','anth','CCL2AT','anthrazit','XL','large','SILHB','m','Sp5',\n",
    "                '2','1','o','M','Spitze','AT','5','3','Gr.','sigvaris','comfort','SIGVARIS','marine','Ccl2',\n",
    "                'Rose','INSPIRATION','SCHWARZ','SENSITIV','SANDEL','PFEFFER','Ccl1','für','HAFTRAND','100','plus'])\n",
    "\n",
    "# WordCloud generieren\n",
    "wordcloud = WordCloud(\n",
    "    max_words = 60,\n",
    "    colormap = \"Blues\",\n",
    "    width = 1600,\n",
    "    height = 900,\n",
    "    background_color = 'white',\n",
    "    stopwords = stopwords).generate(str(text))\n",
    "\n",
    "#Plotten\n",
    "fig = plt.figure(\n",
    "    figsize = (10, 10),\n",
    "    facecolor = 'w',\n",
    "    edgecolor = 'w')\n",
    "plt.imshow(wordcloud, interpolation = 'bilinear')\n",
    "plt.axis('off')\n",
    "plt.tight_layout(pad=0)\n",
    "plt.show()"
   ]
  },
  {
   "cell_type": "code",
   "execution_count": null,
   "metadata": {},
   "outputs": [],
   "source": [
    "# Frequenz der vorkommenden Wörter in Zahlen:\n",
    "text_one = text.split()\n",
    "text_two = list(stopwords)\n",
    "\n",
    "text_final = [item for item in text_one if item not in text_two]"
   ]
  },
  {
   "cell_type": "code",
   "execution_count": null,
   "metadata": {},
   "outputs": [],
   "source": [
    "text_df = pd.DataFrame(text_final)\n",
    "text_df.columns = ['Wort']\n",
    "\n",
    "# Filtern auf Wörter, die mehr als drei Buchstaben aufweisen \n",
    "text_df = text_df[text_df['Wort'].map(len) > 2]\n",
    "\n",
    "# Ausgabe der Frequenz jedes Wortes, sortiert nach absteigender Häufigkeit\n",
    "print('Wortfrequenzen:')\n",
    "pd.Series(' '.join(text_df['Wort']).split()).value_counts()[:10]"
   ]
  },
  {
   "cell_type": "markdown",
   "metadata": {},
   "source": [
    "### Weitere Werte:"
   ]
  },
  {
   "cell_type": "code",
   "execution_count": null,
   "metadata": {},
   "outputs": [],
   "source": [
    "print('Durchschn. Anzahl der Arzneimittel pro Jahr seit dem Jahr 2000:\\n' + str(product_eda.tail(19).mean())) \n",
    "print('Marktwachstum im Mittel seit 2000:\\n' + str(product_eda['Arzneimittel'].pct_change().tail(19).mean()))"
   ]
  },
  {
   "cell_type": "markdown",
   "metadata": {},
   "source": [
    "## Hersteller-Adresse\n",
    "\n",
    "<b>Offene Fragen:</b>\n",
    "1. In welchem Bundesland sind die Hersteller angesiedelt?\n",
    "2. Aus welcher Stadt stammen die meisten Hersteller?\n",
    "3. Wie sind die Unternehmen verteilt (Map-Ansicht Deutschland)\n",
    "4. Wie viele Städte enthält der Datensatz?"
   ]
  },
  {
   "cell_type": "code",
   "execution_count": null,
   "metadata": {},
   "outputs": [],
   "source": [
    "cmp_ad_eda = company_adress[['ID','CITY']] # eigenes DF für Analysezweck\n",
    "cmp_ad_eda = cmp_ad_eda.groupby('CITY').count().sort_values(by='ID', ascending=False)\n",
    "cmp_ad_eda.columns = ['Anzahl Hersteller'] # Umbenennen der Ergebnisspalte\n",
    "print('Anzahl Hersteller in einer Stadt:')\n",
    "print(cmp_ad_eda.describe())\n",
    "cmp_ad_eda.head(10).plot.barh()\n",
    "cmp_ad_eda.head(10)"
   ]
  },
  {
   "cell_type": "code",
   "execution_count": null,
   "metadata": {
    "scrolled": false
   },
   "outputs": [],
   "source": [
    "# Datenpfad für Deutschland-Map mit PLZen\n",
    "fp = \"../data/maps/plz-gebiete.shp\"\n",
    "map_df = gpd.read_file(fp)\n",
    "\n",
    "# Einlesen von PLZ-File\n",
    "plz = pd.read_csv('../data/maps/plz-gebiete.csv', header=0, dtype={'plz': object})\n",
    "\n",
    "# Merge von SHP-File und PLZ-File\n",
    "merge_one = pd.concat([map_df, plz], axis=1)\n",
    "# Überprüfen, ob Map geladen werden kann\n",
    "merge_one.info()\n",
    "print(merge_one.head(10))"
   ]
  },
  {
   "cell_type": "code",
   "execution_count": null,
   "metadata": {},
   "outputs": [],
   "source": [
    "# DF für Städte mit der Postleitzahl\n",
    "cmp_plz = company_adress[['ID', 'ZIP']]\n",
    "cmp_plz = cmp_plz.groupby('ZIP').count().sort_values(by='ID', ascending=False) # Gruppieren nach PLZ\n",
    "cmp_plz.columns = ['Anzahl'] # Umbenennung der Ergebnisspalte\n",
    "cmp_plz = cmp_plz.reset_index()\n",
    "cmp_plz.info()\n",
    "cmp_plz.head()"
   ]
  },
  {
   "cell_type": "code",
   "execution_count": null,
   "metadata": {},
   "outputs": [],
   "source": [
    "#Merge von Choropleth-Map und PLZ-DF\n",
    "merge_two = pd.merge(merge_one, cmp_plz, left_on='plz', right_on='ZIP', how='left')\n",
    "merge_two = merge_two.drop('ZIP', 1) # PlZ nach Merge doppelt enthalten --> Drop\n",
    "merge_two = merge_two.fillna(0)\n",
    "merge_two.Anzahl = merge_two.Anzahl.astype(int)\n",
    "merge_two.head()"
   ]
  },
  {
   "cell_type": "code",
   "execution_count": null,
   "metadata": {},
   "outputs": [],
   "source": [
    "# Variable zur Festlegung der anzuzeigenden Spalte\n",
    "variable = 'Anzahl'\n",
    "# Range der Map\n",
    "vmin, vmax = 1, 174\n",
    "# Figur und Axen deklarieren\n",
    "fig, ax = plt.subplots(1, figsize=(10, 6))\n",
    "\n",
    "# Erstellen der Map\n",
    "merge_two.plot(column=variable, cmap='Blues', linewidth=0.3, ax=ax, edgecolor='0.8')\n",
    "\n",
    "# Titel\n",
    "ax.set_title('Aufteilung der Hersteller nach PLZ', fontdict={'fontsize': '14', 'fontweight' : '2'})\n",
    "# Annotation\n",
    "ax.annotate('Quelle für Map: suche-postleitzahl.org',xy=(0.3, .08),  xycoords='figure fraction', \n",
    "            horizontalalignment='left', verticalalignment='top', fontsize=12, color='#555555')\n",
    "\n",
    "# Axen ausblenden\n",
    "ax.axis('off')\n",
    "\n",
    "# Colorbar als Legende einfügen\n",
    "sm = plt.cm.ScalarMappable(cmap='Blues', norm=plt.Normalize(vmin=vmin, vmax=vmax))\n",
    "# Leeres Array für Daten-Range\n",
    "sm._A = []\n",
    "# Colorbar hinzufügen\n",
    "cbar = fig.colorbar(sm)\n",
    "fig.savefig('map_comp_plz', dpi=300)"
   ]
  },
  {
   "cell_type": "code",
   "execution_count": null,
   "metadata": {},
   "outputs": [],
   "source": [
    "# Datenpfad für Deutschland-Map mit 1stelliger PLZ\n",
    "fp2 = \"../data/maps/GermanyPolygon21.shp\"\n",
    "map2_df = gpd.read_file(fp2)\n",
    "\n",
    "# Einlesen von Bundesland-File\n",
    "states = pd.read_csv('../data/maps/states.csv', header=0)\n",
    "states.info()\n",
    "\n",
    "# Merge von SHP-File und PLZ-File\n",
    "merge_three = pd.concat([map2_df, states], axis=1)\n",
    "merge_three.head()\n"
   ]
  },
  {
   "cell_type": "code",
   "execution_count": null,
   "metadata": {},
   "outputs": [],
   "source": [
    "# Einlesen von Zuordnungstabelle von PLZ zu Bundesländern\n",
    "zip_to_states = pd.read_csv('../data/maps/zip_to_states.csv', header=0, sep=';', dtype={'PLZ': object})\n",
    "\n",
    "# Neues DF für diese Analyse aus ID und PLZ der Hersteller-Adresse-Tabelle\n",
    "cmp_eda2 = company_adress[['ID', 'ZIP']]\n",
    "\n",
    "# Merge von Hersteller-Adresse und Bundesland\n",
    "merge_four = pd.merge(cmp_eda2, zip_to_states, left_on=\"ZIP\", right_on=\"PLZ\")\n",
    "merge_four = merge_four.drop(['ZIP', 'PLZ'], axis=1) # PLZen werden nicht weiter benötigt\n",
    "\n",
    "# Count für die Bundesländer\n",
    "merge_four = merge_four.groupby('Bundesland').count().sort_values(by='ID', ascending=False) # Gruppieren nach PLZ\n",
    "merge_four.columns = ['Anzahl'] # Umbenennung der Ergebnisspalte\n",
    "merge_four = merge_four.reset_index()\n",
    "merge_four"
   ]
  },
  {
   "cell_type": "code",
   "execution_count": null,
   "metadata": {},
   "outputs": [],
   "source": [
    "#Merge von Choropleth-Map und Bundesland-DF\n",
    "merge_five = pd.merge(merge_three, merge_four, left_on='Bundesland', right_on='Bundesland', how='left')\n",
    "merge_five = merge_five.drop('Bundesland', 1) # PlZ nach Merge doppelt enthalten --> Drop\n",
    "merge_five.Anzahl = merge_five.Anzahl.astype(int)\n",
    "print(merge_five.describe())\n",
    "merge_five.head()"
   ]
  },
  {
   "cell_type": "code",
   "execution_count": null,
   "metadata": {},
   "outputs": [],
   "source": [
    "# Variable zur Festlegung der anzuzeigenden Spalte\n",
    "variable2 = 'Anzahl'\n",
    "# Range\n",
    "vmin, vmax = 8, 798\n",
    "# Figure anlegen\n",
    "fig, ax = plt.subplots(1, figsize=(10, 6))\n",
    "\n",
    "# Erstellen der Map\n",
    "merge_five.plot(column=variable, cmap='Blues', linewidth=0.4, ax=ax, edgecolor='0.8')\n",
    "\n",
    "# Titel\n",
    "ax.set_title('Aufteilung der Hersteller nach Bundesland', fontdict={'fontsize': '14', 'fontweight' : '2'})\n",
    "# Annotation\n",
    "ax.annotate('Quelle für Map: https://www.igismap.com',xy=(0.3, .08),  xycoords='figure fraction', \n",
    "            horizontalalignment='left', verticalalignment='top', fontsize=12, color='#555555')\n",
    "\n",
    "# Axen ausblenden\n",
    "ax.axis('off')\n",
    "\n",
    "# Colorbar als Legende einfügen\n",
    "sm = plt.cm.ScalarMappable(cmap='Blues', norm=plt.Normalize(vmin=vmin, vmax=vmax))\n",
    "# Leeres Array für die Daten-Range\n",
    "sm._A = []\n",
    "# Colobar\n",
    "cbar = fig.colorbar(sm)\n",
    "\n",
    "# Speichern der Grafik\n",
    "fig.savefig(\"map_comp_states.png\", dpi=300)"
   ]
  },
  {
   "cell_type": "markdown",
   "metadata": {},
   "source": [
    "## Produkt-Hersteller\n",
    "<b>Offene Fragen:</b>\n",
    "1. Welcher Hersteller stellt die meisten Arzneimittel her?\n",
    "2. Wie viele Arzneimittel hat ein Hersteller im Durchschnitt auf dem Markt?\n",
    "3. Gibt es Hersteller, die kaum noch aktiv sind? (Kombination aus Markteintrittsdatum und Hersteller)"
   ]
  },
  {
   "cell_type": "code",
   "execution_count": null,
   "metadata": {},
   "outputs": [],
   "source": [
    "# Merge aus den Produkten und Herstellern\n",
    "prod_comp_merge = pd.merge(product, product_company, left_on='ID', right_on='PRODUCTID')\n",
    "prod_comp_merge = prod_comp_merge.drop('PRODUCTID', 1) # PRODUCTID nach Merge doppelt enthalten --> Drop\n",
    "# Hersteller dem jeweiligen Produkt zuweisen\n",
    "prod_comp_merge2 = pd.merge(prod_comp_merge, company[['ID','NAME']], left_on=\"COMPANYID\", right_on=\"ID\")\n",
    "prod_comp_merge2 = prod_comp_merge2[['ID_x','NAME_x','ONMARKETDATE','NAME_y']] # Doppelte Spalten entfernen\n",
    "prod_comp_merge2.columns = ['ID','Arzneimittel','Markteintrittsdatum','Hersteller'] #Spaltenumbenennung\n",
    "prod_comp_merge2 = prod_comp_merge2.sort_values(by='ID', ascending=True) # Sortierung nach ID aufsteigend"
   ]
  },
  {
   "cell_type": "code",
   "execution_count": null,
   "metadata": {},
   "outputs": [],
   "source": [
    "prod_comp_merge2.head()"
   ]
  },
  {
   "cell_type": "code",
   "execution_count": null,
   "metadata": {},
   "outputs": [],
   "source": [
    "prod_comp_merge3 = prod_comp_merge2[['ID','Hersteller']]\n",
    "prod_comp_merge3 = prod_comp_merge3.groupby('Hersteller').count().sort_values(by='ID', ascending=False)\n",
    "prod_comp_merge3.columns = ['Anzahl'] # Umbenennung der Ergebnisspalte\n",
    "print(prod_comp_merge3.describe())\n",
    "print(prod_comp_merge3.head(10))\n",
    "plot = prod_comp_merge3.head(10).sort_values(by='Anzahl').plot.barh()\n",
    "plot.set(title='Die zehn größten Hersteller von Arzneimitteln',\n",
    "        ylabel='')"
   ]
  },
  {
   "cell_type": "markdown",
   "metadata": {},
   "source": [
    "Anzahl der Hersteller die nur wenige Produkte herstellen:"
   ]
  },
  {
   "cell_type": "code",
   "execution_count": null,
   "metadata": {},
   "outputs": [],
   "source": [
    "prod_comp_merge3.head(10)"
   ]
  },
  {
   "cell_type": "markdown",
   "metadata": {},
   "source": [
    "### Zeitverlauf: Die aktivsten Hersteller in den letzten Jahren"
   ]
  },
  {
   "cell_type": "code",
   "execution_count": null,
   "metadata": {},
   "outputs": [],
   "source": [
    "prod_comp_time = prod_comp_merge2[['ID','Markteintrittsdatum', 'Hersteller']]\n",
    "\n",
    "# Drop a row by condition\n",
    "prod_comp_time = prod_comp_time[prod_comp_time.Markteintrittsdatum >= 2009]\n",
    "prod_comp_time.groupby(['Hersteller','Markteintrittsdatum']).count()['ID'].unstack()\n",
    "#prod_comp_time.groupby(['Hersteller']).count().reset_index().sort_values(by='Markteintrittsdatum', ascending=False)"
   ]
  },
  {
   "cell_type": "markdown",
   "metadata": {},
   "source": [
    "## Interaktionen\n",
    "<b>Offene Fragen:</b>\n",
    "1. Welche Wirkstoffe generieren am häufigsten Wechselwirkungen?\n",
    "2. Weche Wirkstoffe generieren am wenigsten Wechselwirkungen?\n",
    "3. Schweregradanalyse (Was kommt am häufigsten vor, was selten etc.)\n",
    "4. Wahrscheinlichkeitsanalyse"
   ]
  },
  {
   "cell_type": "code",
   "execution_count": null,
   "metadata": {},
   "outputs": [],
   "source": [
    "# Anlegen eines DF eigens für diese Untersuchung\n",
    "interaction_eda = interaction\n",
    "# Head anzeigen\n",
    "interaction.head()"
   ]
  },
  {
   "cell_type": "markdown",
   "metadata": {},
   "source": [
    "Ausprägung der Spalten SEVERITY und LIKELIHOOD\n",
    "\n",
    "Ergebnis: \n",
    "- Jede der Spalten beinhaltet vier einzigartige Ausprägungsmöglichkeiten\n",
    "- Der Schwierigkeitsgrad 'mittelschwer' kommt am Häufigsten vor (in 4325 von 7619 Fällen - 57 %)\n",
    "- Die Wahrscheinlichkeit 'Begrenz untersucht' kommt am Häufigsten vor (in 2973 von 7619 Fällen - 39 %)"
   ]
  },
  {
   "cell_type": "code",
   "execution_count": null,
   "metadata": {},
   "outputs": [],
   "source": [
    "print(str(interaction_eda.SEVERITY.describe()) + '\\n' + '----'+ '\\n'+ str(interaction_eda.LIKELIHOOD.describe()))\n",
    "\n",
    "# Grafische Veranschaulichung\n",
    "interaction_eda.SEVERITY.value_counts().plot.pie(\n",
    "    startangle=60,\n",
    "    autopct='%1.1f%%',\n",
    "    fontsize=12,\n",
    "    title='Welchen Schweregrad haben die Interaktionen?',\n",
    "    colors=('#5288DB', '#73C2FB','#0080FF','#7285A5'))\n",
    "plt.tight_layout()\n",
    "plt.show()"
   ]
  },
  {
   "cell_type": "code",
   "execution_count": null,
   "metadata": {},
   "outputs": [],
   "source": [
    "interaction_eda.LIKELIHOOD.value_counts().plot.pie(\n",
    "    startangle=55,\n",
    "    autopct='%1.1f%%',\n",
    "    fontsize=12,\n",
    "    title='Inwieweit sind die Interaktionen untersucht?',\n",
    "    colors=('#5288DB', '#73C2FB','#0080FF','#7285A5'))\n",
    "plt.tight_layout()\n",
    "plt.show()"
   ]
  },
  {
   "cell_type": "markdown",
   "metadata": {},
   "source": [
    "Interessant ist zudem, wie gut die jeweils einzelnen Interaktionenstypen untersucht sind.\n",
    "\n",
    "Ergebnis:\n",
    "- Die schwerwiegenden und mittelschweren Interaktionen sind größtenteils nur begrenzt untersucht oder gar nicht erwiesen.\n",
    "- Generell sind die wenigstens Interaktionen überhaupt sehr gut untersucht."
   ]
  },
  {
   "cell_type": "code",
   "execution_count": null,
   "metadata": {},
   "outputs": [],
   "source": [
    "interaction_eda_2 = interaction_eda.groupby(['SEVERITY','LIKELIHOOD']).count()['INTERACTIONCLASSID1'].unstack()\n",
    "interaction_eda_2.head()"
   ]
  },
  {
   "cell_type": "code",
   "execution_count": null,
   "metadata": {},
   "outputs": [],
   "source": [
    "interaction_eda_2 = interaction_eda_2[['Nicht erwiesen','Begrenzt untersucht.','Gut untersucht.','Sehr gut untersucht.']]\n",
    "interaction_eda_2.head()\n",
    "\n",
    "interaction_eda_2.plot.barh(stacked=True,\n",
    "                           colors=('#8D021F', '#ED2939','#0080FF','#73C2FB') )"
   ]
  },
  {
   "cell_type": "markdown",
   "metadata": {},
   "source": [
    "#### Welche Interaktionsklassen weißen am meisten Wechselwirkungen auf und welche Interaktionsklassen sind am häufigsten schwerwiegend oder mittelschwer?\n",
    "\n",
    "Prequisite: Merge aus Interaktionsklassen und Interaktionen, um die Namen der Interaktionsklassen aufzeigen zu können."
   ]
  },
  {
   "cell_type": "code",
   "execution_count": null,
   "metadata": {},
   "outputs": [],
   "source": [
    "# Merge aus Interaktionsklassen und Interaktionen\n",
    "interaction_eda_3 = pd.merge(interaction, interaction_class, left_on='INTERACTIONCLASSID1',\n",
    "    right_on='INTERACTIONCLASSID')\n",
    "\n",
    "interaction_eda_4 = interaction_eda_3.groupby('NAME').count()['INTERACTIONCLASSID2']\n",
    "interaction_eda_4 = interaction_eda_4.to_frame()\n",
    "interaction_eda_4.columns = ['Anzahl Interaktionen']\n",
    "\n",
    "# Wie viele Interaktionen weist eine Interaktionsklasse im Schnitt auf?\n",
    "interaction_eda_4.describe()"
   ]
  },
  {
   "cell_type": "markdown",
   "metadata": {},
   "source": [
    "#### Welche Interaktionsklassen haben/verursachen die meisten Wechselwirkungen?"
   ]
  },
  {
   "cell_type": "code",
   "execution_count": null,
   "metadata": {},
   "outputs": [],
   "source": [
    "interaction_eda_4 = interaction_eda_4.reset_index()\n",
    "interaction_eda_4.columns = ['Wirkstoff', 'Anzahl Interaktionen']\n",
    "interaction_eda_4.sort_values(ascending=False, by='Anzahl Interaktionen').head(10)"
   ]
  },
  {
   "cell_type": "markdown",
   "metadata": {},
   "source": [
    "#### In welchen Schweregrad-Klassen sind welche Wirkstoffe besonders dominant?"
   ]
  },
  {
   "cell_type": "code",
   "execution_count": null,
   "metadata": {},
   "outputs": [],
   "source": [
    "interaction_eda_3.head()\n",
    "interaction_eda_5 = interaction_eda_3[['SEVERITY','INTERACTIONCLASSID2', 'LIKELIHOOD','NAME']]\n",
    "\n",
    "kategorienliste = ('schwerwiegend', 'mittelschwer', 'geringfügig', 'Vorsicht')\n",
    "\n",
    "# For-Schleife, um jede Kategorie zu durchlaufen\n",
    "for kategorie in kategorienliste:\n",
    "    print(interaction_eda_5[interaction_eda_5.SEVERITY == kategorie].groupby(['SEVERITY',\n",
    "            'NAME']).size().sort_values(ascending=False).head())"
   ]
  },
  {
   "cell_type": "markdown",
   "metadata": {},
   "source": [
    "## Produkt-Interaktion\n",
    "<b>Offene Fragen:</b>\n",
    "1. Welches Produkt hat am meisten Interaktionsklassen\n",
    "2. Durchschnittliche Anzahl von Interaktionsklassen pro Produkt\n",
    "3. Welche Interaktionsklasse hat am meisten Verknüpfungen zu Produkten\n",
    "4. Welche Produkte sind am gefährlichsten? (Aufbauend auf der Analyse der gefährlichsten Wirkstoffe)"
   ]
  },
  {
   "cell_type": "markdown",
   "metadata": {},
   "source": [
    "#### Produkt mit den meisten Interaktionsklassen (meisten enthaltenen Wirkstoffe)"
   ]
  },
  {
   "cell_type": "markdown",
   "metadata": {},
   "source": [
    "Zunächst muss das Produkt-Interaktionen-DF mit dem Produkt DF gemerged werden:"
   ]
  },
  {
   "cell_type": "code",
   "execution_count": 17,
   "metadata": {},
   "outputs": [
    {
     "data": {
      "text/html": [
       "<div>\n",
       "<style scoped>\n",
       "    .dataframe tbody tr th:only-of-type {\n",
       "        vertical-align: middle;\n",
       "    }\n",
       "\n",
       "    .dataframe tbody tr th {\n",
       "        vertical-align: top;\n",
       "    }\n",
       "\n",
       "    .dataframe thead th {\n",
       "        text-align: right;\n",
       "    }\n",
       "</style>\n",
       "<table border=\"1\" class=\"dataframe\">\n",
       "  <thead>\n",
       "    <tr style=\"text-align: right;\">\n",
       "      <th></th>\n",
       "      <th>Anzahl</th>\n",
       "    </tr>\n",
       "    <tr>\n",
       "      <th>NAME</th>\n",
       "      <th></th>\n",
       "    </tr>\n",
       "  </thead>\n",
       "  <tbody>\n",
       "    <tr>\n",
       "      <th>Olimel 4,4 % E Emulsion zur Infusion, 2000 ml + Cernevit, Set</th>\n",
       "      <td>29</td>\n",
       "    </tr>\n",
       "    <tr>\n",
       "      <th>Olimel 5,7 % E Emulsion zur Infusion, 2000 ml + Cernevit, Set</th>\n",
       "      <td>29</td>\n",
       "    </tr>\n",
       "    <tr>\n",
       "      <th>Olimel 5,7 % E Emulsion zur Infusion, 1500 ml + Cernevit, Set</th>\n",
       "      <td>29</td>\n",
       "    </tr>\n",
       "    <tr>\n",
       "      <th>Olimel 5,7 % E Emulsion zur Infusion, 1000 ml + Cernevit, Set</th>\n",
       "      <td>29</td>\n",
       "    </tr>\n",
       "    <tr>\n",
       "      <th>Olimel 4,4 % E Emulsion zur Infusion, 1500 ml + Cernevit, Set</th>\n",
       "      <td>29</td>\n",
       "    </tr>\n",
       "    <tr>\n",
       "      <th>Olimel 4,4 % E Emulsion zur Infusion, 1000 ml + Cernevit, Set</th>\n",
       "      <td>29</td>\n",
       "    </tr>\n",
       "    <tr>\n",
       "      <th>Arelix® ACE 5 mg/6 mg Tabletten</th>\n",
       "      <td>24</td>\n",
       "    </tr>\n",
       "    <tr>\n",
       "      <th>Cernevit + Addel Trace (Mikronährstoff-Set) Kombipackung</th>\n",
       "      <td>23</td>\n",
       "    </tr>\n",
       "    <tr>\n",
       "      <th>Irbesartan HCTZ Fair-Med 150+12,5 mg Filmtabletten</th>\n",
       "      <td>20</td>\n",
       "    </tr>\n",
       "    <tr>\n",
       "      <th>Irbesartan HCTZ Fair-Med 300+12,5 mg Filmtabletten</th>\n",
       "      <td>20</td>\n",
       "    </tr>\n",
       "  </tbody>\n",
       "</table>\n",
       "</div>"
      ],
      "text/plain": [
       "                                                    Anzahl\n",
       "NAME                                                      \n",
       "Olimel 4,4 % E Emulsion zur Infusion, 2000 ml +...      29\n",
       "Olimel 5,7 % E Emulsion zur Infusion, 2000 ml +...      29\n",
       "Olimel 5,7 % E Emulsion zur Infusion, 1500 ml +...      29\n",
       "Olimel 5,7 % E Emulsion zur Infusion, 1000 ml +...      29\n",
       "Olimel 4,4 % E Emulsion zur Infusion, 1500 ml +...      29\n",
       "Olimel 4,4 % E Emulsion zur Infusion, 1000 ml +...      29\n",
       "Arelix® ACE 5 mg/6 mg Tabletten                         24\n",
       "Cernevit + Addel Trace (Mikronährstoff-Set) Kom...      23\n",
       "Irbesartan HCTZ Fair-Med 150+12,5 mg Filmtabletten      20\n",
       "Irbesartan HCTZ Fair-Med 300+12,5 mg Filmtabletten      20"
      ]
     },
     "execution_count": 17,
     "metadata": {},
     "output_type": "execute_result"
    }
   ],
   "source": [
    "# Merge aus Produkt-Interaktionen und Produkten\n",
    "prod_inter_eda = pd.merge(product_interaction_class, product, left_on='PRODUCTID',\n",
    "    right_on='ID')\n",
    "\n",
    "# Für die Analyse ausreichend sind die Interaktionsklasse und der Name des Produkts\n",
    "prod_inter_eda = prod_inter_eda[['INTERACTIONCLASSID','NAME']]\n",
    "prod_inter_eda_2 = prod_inter_eda\n",
    "\n",
    "prod_inter_eda = prod_inter_eda.groupby(['NAME']).count().sort_values(by='INTERACTIONCLASSID', ascending=False)\n",
    "prod_inter_eda.columns = ['Anzahl'] # Umbenennung der Ergebnisspalte\n",
    "prod_inter_eda.head(10)"
   ]
  },
  {
   "cell_type": "code",
   "execution_count": 18,
   "metadata": {},
   "outputs": [
    {
     "data": {
      "text/plain": [
       "<matplotlib.axes._subplots.AxesSubplot at 0x12466ef60>"
      ]
     },
     "execution_count": 18,
     "metadata": {},
     "output_type": "execute_result"
    },
    {
     "data": {
      "image/png": "[encoded data removed]",
      "text/plain": [
       "<Figure size 288x504 with 1 Axes>"
      ]
     },
     "metadata": {
      "needs_background": "light"
     },
     "output_type": "display_data"
    }
   ],
   "source": [
    "# Darstellung der Verteilung als Boxplot\n",
    "prod_inter_eda.boxplot(patch_artist=True,figsize=(4,7))"
   ]
  },
  {
   "cell_type": "code",
   "execution_count": 19,
   "metadata": {},
   "outputs": [
    {
     "data": {
      "text/html": [
       "<div>\n",
       "<style scoped>\n",
       "    .dataframe tbody tr th:only-of-type {\n",
       "        vertical-align: middle;\n",
       "    }\n",
       "\n",
       "    .dataframe tbody tr th {\n",
       "        vertical-align: top;\n",
       "    }\n",
       "\n",
       "    .dataframe thead th {\n",
       "        text-align: right;\n",
       "    }\n",
       "</style>\n",
       "<table border=\"1\" class=\"dataframe\">\n",
       "  <thead>\n",
       "    <tr style=\"text-align: right;\">\n",
       "      <th></th>\n",
       "      <th>Anzahl</th>\n",
       "    </tr>\n",
       "  </thead>\n",
       "  <tbody>\n",
       "    <tr>\n",
       "      <th>count</th>\n",
       "      <td>32663.000000</td>\n",
       "    </tr>\n",
       "    <tr>\n",
       "      <th>mean</th>\n",
       "      <td>4.370235</td>\n",
       "    </tr>\n",
       "    <tr>\n",
       "      <th>std</th>\n",
       "      <td>2.707902</td>\n",
       "    </tr>\n",
       "    <tr>\n",
       "      <th>min</th>\n",
       "      <td>1.000000</td>\n",
       "    </tr>\n",
       "    <tr>\n",
       "      <th>25%</th>\n",
       "      <td>2.000000</td>\n",
       "    </tr>\n",
       "    <tr>\n",
       "      <th>50%</th>\n",
       "      <td>4.000000</td>\n",
       "    </tr>\n",
       "    <tr>\n",
       "      <th>75%</th>\n",
       "      <td>6.000000</td>\n",
       "    </tr>\n",
       "    <tr>\n",
       "      <th>max</th>\n",
       "      <td>29.000000</td>\n",
       "    </tr>\n",
       "  </tbody>\n",
       "</table>\n",
       "</div>"
      ],
      "text/plain": [
       "             Anzahl\n",
       "count  32663.000000\n",
       "mean       4.370235\n",
       "std        2.707902\n",
       "min        1.000000\n",
       "25%        2.000000\n",
       "50%        4.000000\n",
       "75%        6.000000\n",
       "max       29.000000"
      ]
     },
     "execution_count": 19,
     "metadata": {},
     "output_type": "execute_result"
    }
   ],
   "source": [
    "# Tabellarische Darstellung\n",
    "prod_inter_eda.describe()"
   ]
  },
  {
   "cell_type": "markdown",
   "metadata": {},
   "source": [
    "Ergebnis 1: \n",
    " - Die meisten Wirkstoffe beinhaltet das Produkt Olimel 5,7 % E Emulsion zur Infusion\n",
    " - Boxplot zeigt Verteilungen\n",
    " - Im Durchschnitt haben Medikamente rund vier Wirkstoffe\n",
    " - Maximum bei 29\n",
    " - 25%-Quantil bei 2, Median bei 4, 75%-Quantil bei 6"
   ]
  },
  {
   "cell_type": "markdown",
   "metadata": {},
   "source": [
    "#### Welche Interaktionsklassen/Wirkstoffe tauchen am häufigsten in den Produkten auf?\n",
    "\n",
    "Merge aus vorherigem DF und den Interaktionsklassen"
   ]
  },
  {
   "cell_type": "code",
   "execution_count": 22,
   "metadata": {},
   "outputs": [
    {
     "data": {
      "text/html": [
       "<div>\n",
       "<style scoped>\n",
       "    .dataframe tbody tr th:only-of-type {\n",
       "        vertical-align: middle;\n",
       "    }\n",
       "\n",
       "    .dataframe tbody tr th {\n",
       "        vertical-align: top;\n",
       "    }\n",
       "\n",
       "    .dataframe thead th {\n",
       "        text-align: right;\n",
       "    }\n",
       "</style>\n",
       "<table border=\"1\" class=\"dataframe\">\n",
       "  <thead>\n",
       "    <tr style=\"text-align: right;\">\n",
       "      <th></th>\n",
       "      <th>Anzahl</th>\n",
       "    </tr>\n",
       "    <tr>\n",
       "      <th>NAME</th>\n",
       "      <th></th>\n",
       "    </tr>\n",
       "  </thead>\n",
       "  <tbody>\n",
       "    <tr>\n",
       "      <th>Oral verabreichte Arzneimittel</th>\n",
       "      <td>23030</td>\n",
       "    </tr>\n",
       "    <tr>\n",
       "      <th>Arzneimittel, Bradykinin und Angioödem</th>\n",
       "      <td>4370</td>\n",
       "    </tr>\n",
       "    <tr>\n",
       "      <th>Arzneimittel zur Senkung des arteriellen Blutdrucks</th>\n",
       "      <td>3030</td>\n",
       "    </tr>\n",
       "    <tr>\n",
       "      <th>Sedativa</th>\n",
       "      <td>2996</td>\n",
       "    </tr>\n",
       "    <tr>\n",
       "      <th>Substanzen mit Risiko für CYP3A4</th>\n",
       "      <td>2450</td>\n",
       "    </tr>\n",
       "    <tr>\n",
       "      <th>Kaliumsenkende Arzneimittel</th>\n",
       "      <td>1923</td>\n",
       "    </tr>\n",
       "    <tr>\n",
       "      <th>Antipsychotika</th>\n",
       "      <td>1609</td>\n",
       "    </tr>\n",
       "    <tr>\n",
       "      <th>Angiotensin II Antagonisten</th>\n",
       "      <td>1497</td>\n",
       "    </tr>\n",
       "    <tr>\n",
       "      <th>Angiotensin-II-Rezeptor-Antagonisten</th>\n",
       "      <td>1497</td>\n",
       "    </tr>\n",
       "    <tr>\n",
       "      <th>Antipsychotische Neuroleptika (außer Clozapin)</th>\n",
       "      <td>1449</td>\n",
       "    </tr>\n",
       "  </tbody>\n",
       "</table>\n",
       "</div>"
      ],
      "text/plain": [
       "                                                    Anzahl\n",
       "NAME                                                      \n",
       "Oral verabreichte Arzneimittel                       23030\n",
       "Arzneimittel, Bradykinin und Angioödem                4370\n",
       "Arzneimittel zur Senkung des arteriellen Blutdr...    3030\n",
       "Sedativa                                              2996\n",
       "Substanzen mit Risiko für CYP3A4                      2450\n",
       "Kaliumsenkende Arzneimittel                           1923\n",
       "Antipsychotika                                        1609\n",
       "Angiotensin II Antagonisten                           1497\n",
       "Angiotensin-II-Rezeptor-Antagonisten                  1497\n",
       "Antipsychotische Neuroleptika (außer Clozapin)        1449"
      ]
     },
     "execution_count": 22,
     "metadata": {},
     "output_type": "execute_result"
    }
   ],
   "source": [
    "# Merge aus Interaktionsklassen und Interaktionen\n",
    "prod_inter_eda_2 = pd.merge(prod_inter_eda_2, interaction_class)\n",
    "prod_inter_eda_2 = prod_inter_eda_2[['NAME','INTERACTIONCLASSID']]\n",
    "prod_inter_eda_2.head()\n",
    "\n",
    "\n",
    "prod_inter_eda_2 = prod_inter_eda_2.groupby(['NAME']).count().sort_values(by=\"INTERACTIONCLASSID\", ascending=False)\n",
    "prod_inter_eda_2.columns = ['Anzahl'] # Umbenennung der Ergebnisspalte\n",
    "prod_inter_eda_2.head(10)"
   ]
  },
  {
   "cell_type": "code",
   "execution_count": 23,
   "metadata": {},
   "outputs": [
    {
     "data": {
      "text/html": [
       "<div>\n",
       "<style scoped>\n",
       "    .dataframe tbody tr th:only-of-type {\n",
       "        vertical-align: middle;\n",
       "    }\n",
       "\n",
       "    .dataframe tbody tr th {\n",
       "        vertical-align: top;\n",
       "    }\n",
       "\n",
       "    .dataframe thead th {\n",
       "        text-align: right;\n",
       "    }\n",
       "</style>\n",
       "<table border=\"1\" class=\"dataframe\">\n",
       "  <thead>\n",
       "    <tr style=\"text-align: right;\">\n",
       "      <th></th>\n",
       "      <th>Anzahl</th>\n",
       "    </tr>\n",
       "  </thead>\n",
       "  <tbody>\n",
       "    <tr>\n",
       "      <th>count</th>\n",
       "      <td>1161.000000</td>\n",
       "    </tr>\n",
       "    <tr>\n",
       "      <th>mean</th>\n",
       "      <td>122.950043</td>\n",
       "    </tr>\n",
       "    <tr>\n",
       "      <th>std</th>\n",
       "      <td>724.363670</td>\n",
       "    </tr>\n",
       "    <tr>\n",
       "      <th>min</th>\n",
       "      <td>1.000000</td>\n",
       "    </tr>\n",
       "    <tr>\n",
       "      <th>25%</th>\n",
       "      <td>8.000000</td>\n",
       "    </tr>\n",
       "    <tr>\n",
       "      <th>50%</th>\n",
       "      <td>28.000000</td>\n",
       "    </tr>\n",
       "    <tr>\n",
       "      <th>75%</th>\n",
       "      <td>89.000000</td>\n",
       "    </tr>\n",
       "    <tr>\n",
       "      <th>max</th>\n",
       "      <td>23030.000000</td>\n",
       "    </tr>\n",
       "  </tbody>\n",
       "</table>\n",
       "</div>"
      ],
      "text/plain": [
       "             Anzahl\n",
       "count   1161.000000\n",
       "mean     122.950043\n",
       "std      724.363670\n",
       "min        1.000000\n",
       "25%        8.000000\n",
       "50%       28.000000\n",
       "75%       89.000000\n",
       "max    23030.000000"
      ]
     },
     "execution_count": 23,
     "metadata": {},
     "output_type": "execute_result"
    }
   ],
   "source": [
    "prod_inter_eda_2.reset_index().describe()"
   ]
  },
  {
   "cell_type": "markdown",
   "metadata": {},
   "source": [
    "Ergebnis 2: \n",
    "- Sehr interessante Darstellung, da hierbei auffällt, dass es sehr viele Wirkstoffgruppen gibt. Außerdem liefern diese sogar weitere Informationen wie z.B. die Art und Weise der Einnahme oder die genaue Funktion/Wirkungen des Präparats."
   ]
  },
  {
   "cell_type": "markdown",
   "metadata": {},
   "source": [
    "#### Wie viele Medikamente aus dem Gesamtdatensatz erzeugen überhaupt Wechselwirkungen?\n",
    "\n",
    "Das Produkt-Interaktion DataFrame hat deutlich weniger Zeilen als das Produkt-DF. Ein Großteil der Medikamente erzeugt also gar keine Wechselwirkungen! Dies gilt es zu untersuchen."
   ]
  },
  {
   "cell_type": "code",
   "execution_count": null,
   "metadata": {},
   "outputs": [],
   "source": []
  },
  {
   "cell_type": "code",
   "execution_count": null,
   "metadata": {},
   "outputs": [],
   "source": []
  }
 ],
 "metadata": {
  "kernelspec": {
   "display_name": "Python 3",
   "language": "python",
   "name": "python3"
  },
  "language_info": {
   "codemirror_mode": {
    "name": "ipython",
    "version": 3
   },
   "file_extension": ".py",
   "mimetype": "text/x-python",
   "name": "python",
   "nbconvert_exporter": "python",
   "pygments_lexer": "ipython3",
   "version": "3.7.2"
  }
 },
 "nbformat": 4,
 "nbformat_minor": 2
}
