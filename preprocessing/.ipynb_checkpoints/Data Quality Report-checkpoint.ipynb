{
 "cells": [
  {
   "cell_type": "markdown",
   "metadata": {},
   "source": [
    "# Data Quality Report"
   ]
  },
  {
   "cell_type": "markdown",
   "metadata": {},
   "source": [
    "### Einlesen der benötigten Pakete"
   ]
  },
  {
   "cell_type": "code",
   "execution_count": 1,
   "metadata": {},
   "outputs": [],
   "source": [
    "import pandas as pd\n",
    "import numpy as np"
   ]
  },
  {
   "cell_type": "markdown",
   "metadata": {},
   "source": [
    "### Einlesen der CSV-Dateien"
   ]
  },
  {
   "cell_type": "code",
   "execution_count": 2,
   "metadata": {},
   "outputs": [],
   "source": [
    "# Funktion zum Einlesen\n",
    "def csv_to_df(csv):\n",
    "    df = pd.read_csv(csv, header=0, sep=';', quotechar='\"', decimal=',', low_memory=False)\n",
    "    return df\n",
    "\n",
    "# Produkte\n",
    "product = csv_to_df(\"../data/origin/PRODUCT.csv\")\n",
    "\n",
    "# Hersteller\n",
    "company = csv_to_df(\"../data/origin/COMPANY.csv\")\n",
    "\n",
    "# Hersteller-Adresse\n",
    "company_adress = csv_to_df(\"../data/origin/COMPANYADDRESS.csv\")\n",
    "\n",
    "# Schnittstelle Hersteller u. Produkt\n",
    "product_company = csv_to_df(\"../data/origin/PRODUCT_COMPANY.csv\")\n",
    "\n",
    "# Interaktionen\n",
    "interaction = csv_to_df(\"../data/origin/INTERACTION.CSV\")\n",
    "\n",
    "# Interaktions-Klasse\n",
    "interaction_class = csv_to_df(\"../data/origin/INTERACTION_CLASS.csv\")\n",
    "\n",
    "# Schnittstelle zw. Produkte u. Interaktionen\n",
    "product_interaction_class = csv_to_df(\"../data/origin/PRODUCT_INTERACTION_CLASS.csv\")"
   ]
  },
  {
   "cell_type": "markdown",
   "metadata": {},
   "source": [
    "### Bereinigung der Dataframes auf die relevanten Spalten"
   ]
  },
  {
   "cell_type": "code",
   "execution_count": 3,
   "metadata": {},
   "outputs": [],
   "source": [
    "# Produkte (hier reicht die ID, der Name und als zusätzl. Info das Markteintrittsdatum)\n",
    "product = product[['ID','NAME','ONMARKETDATE']]\n",
    "\n",
    "# Hersteller (ID, Name)\n",
    "company = company[['ID','NAME']]\n",
    "\n",
    "# Hersteller-Adresse (ID, COMPANYID, ZIP, STREET, STREETNUMBER)\n",
    "company_adress = company_adress[['ID', 'COMPANYID', 'ZIP', 'CITY', 'STREET', 'STREETNUMBER']]\n",
    "\n",
    "# Schnittstelle zw. Produkte und Hersteller\n",
    "product_company = product_company[['PRODUCTID', 'COMPANYID']]\n",
    "\n",
    "# Interaktionen (ID, Interaktionsklasse1, Interaktionsklasse2, Severity, Likelihood)\n",
    "interaction = interaction[['INTERACTIONCLASSID1', 'INTERACTIONCLASSID2', 'SEVERITY', 'LIKELIHOOD']]"
   ]
  },
  {
   "cell_type": "markdown",
   "metadata": {},
   "source": [
    "## Produkte"
   ]
  },
  {
   "cell_type": "code",
   "execution_count": 107,
   "metadata": {},
   "outputs": [
    {
     "data": {
      "text/html": [
       "<div>\n",
       "<style scoped>\n",
       "    .dataframe tbody tr th:only-of-type {\n",
       "        vertical-align: middle;\n",
       "    }\n",
       "\n",
       "    .dataframe tbody tr th {\n",
       "        vertical-align: top;\n",
       "    }\n",
       "\n",
       "    .dataframe thead th {\n",
       "        text-align: right;\n",
       "    }\n",
       "</style>\n",
       "<table border=\"1\" class=\"dataframe\">\n",
       "  <thead>\n",
       "    <tr style=\"text-align: right;\">\n",
       "      <th></th>\n",
       "      <th>ID</th>\n",
       "      <th>NAME</th>\n",
       "      <th>ONMARKETDATE</th>\n",
       "    </tr>\n",
       "  </thead>\n",
       "  <tbody>\n",
       "    <tr>\n",
       "      <th>0</th>\n",
       "      <td>14</td>\n",
       "      <td>Trental® 400 mg, Retardtabletten</td>\n",
       "      <td>01.09.1977</td>\n",
       "    </tr>\n",
       "    <tr>\n",
       "      <th>1</th>\n",
       "      <td>21</td>\n",
       "      <td>BETOPTIMA® 5 mg/ml Augentropfen</td>\n",
       "      <td>01.09.1985</td>\n",
       "    </tr>\n",
       "    <tr>\n",
       "      <th>2</th>\n",
       "      <td>30</td>\n",
       "      <td>Cyclopentolat Alcon® 1% Augentropfen</td>\n",
       "      <td>01.04.1998</td>\n",
       "    </tr>\n",
       "    <tr>\n",
       "      <th>3</th>\n",
       "      <td>32</td>\n",
       "      <td>DEXA-SINE® 1 mg/ml Augentropfen</td>\n",
       "      <td>01.12.1998</td>\n",
       "    </tr>\n",
       "    <tr>\n",
       "      <th>4</th>\n",
       "      <td>33</td>\n",
       "      <td>DEXA-SINE® SE 1,315 mg/ml Augentropfen</td>\n",
       "      <td>01.12.1989</td>\n",
       "    </tr>\n",
       "  </tbody>\n",
       "</table>\n",
       "</div>"
      ],
      "text/plain": [
       "   ID                                    NAME ONMARKETDATE\n",
       "0  14        Trental® 400 mg, Retardtabletten   01.09.1977\n",
       "1  21         BETOPTIMA® 5 mg/ml Augentropfen   01.09.1985\n",
       "2  30    Cyclopentolat Alcon® 1% Augentropfen   01.04.1998\n",
       "3  32         DEXA-SINE® 1 mg/ml Augentropfen   01.12.1998\n",
       "4  33  DEXA-SINE® SE 1,315 mg/ml Augentropfen   01.12.1989"
      ]
     },
     "execution_count": 107,
     "metadata": {},
     "output_type": "execute_result"
    }
   ],
   "source": [
    "product.head()"
   ]
  },
  {
   "cell_type": "code",
   "execution_count": 110,
   "metadata": {},
   "outputs": [
    {
     "name": "stdout",
     "output_type": "stream",
     "text": [
      "Leere Zeilen pro Spalte: \n",
      "ID              0\n",
      "NAME            0\n",
      "ONMARKETDATE    0\n",
      "dtype: int64\n",
      "----------------------------------------------\n",
      "Dubletten basierend auf allen Spalten:\n",
      "Empty DataFrame\n",
      "Columns: [ID, NAME, ONMARKETDATE]\n",
      "Index: []\n",
      "Dubletten basierend auf der Spalte 'NAME':\n",
      "             ID                                               NAME  \\\n",
      "16617    368875                 BD Micro-Fine+ U100 Ins.Spr.12,7mm   \n",
      "39612    498847                    Arelix® ACE 5 mg/6 mg Tabletten   \n",
      "40418    501260          Soventol® Hydrocort 0,25%, 2,5 mg/g Creme   \n",
      "43838    511817  Cefuroxim Hikma 1500 mg Pulver zur Herstellung...   \n",
      "44590    515756                        ben-u-ron® 500 mg Tabletten   \n",
      "...         ...                                                ...   \n",
      "545107  1190130                             PÜTTER Binde 10 cmx5 m   \n",
      "545108  1190131                AQUACEL Foam adhäsiv 8x8 cm Verband   \n",
      "545121  1190146                                   Mega Acidophilus   \n",
      "545131  1190158                                        O-Set 4+1 L   \n",
      "545135  1190162                         SENI Control Einlagen plus   \n",
      "\n",
      "       ONMARKETDATE  \n",
      "16617    01.02.1998  \n",
      "39612    15.05.2007  \n",
      "40418    15.02.2008  \n",
      "43838    15.12.2004  \n",
      "44590    01.10.2002  \n",
      "...             ...  \n",
      "545107   01.05.2019  \n",
      "545108   01.05.2019  \n",
      "545121   01.05.2019  \n",
      "545131   01.05.2019  \n",
      "545135   01.05.2019  \n",
      "\n",
      "[6354 rows x 3 columns]\n"
     ]
    }
   ],
   "source": [
    "# Ausgabe der auffindbaren leeren Zeilen pro Spalte\n",
    "print('Leere Zeilen pro Spalte: ' + '\\n'+ str(product.isnull().sum()) + \n",
    "      '\\n' + '----------------------------------------------') #Brake zur besseren Übersicht\n",
    "\n",
    "#Dublettenprüfung\n",
    "product_double = product[product.duplicated()]\n",
    " \n",
    "print(\"Dubletten basierend auf allen Spalten:\")\n",
    "print(product_double)\n",
    "\n",
    "# Dublettenprüfung nur auf Basis des Produktnamens\n",
    "check_doubles_column = product[product.duplicated(['NAME'])]\n",
    "print(\"Dubletten basierend auf der Spalte 'NAME':\", check_doubles_column, sep='\\n')"
   ]
  },
  {
   "cell_type": "markdown",
   "metadata": {},
   "source": [
    "Offensichtlich existieren 6.354 Zeilen, in denen der Name des Produkts doppelt ist. Die Tupel unterscheidet sich lediglich in der ID. Es muss überprüft werden, ob diese entfernt werden können, weil sie in zusammenhängenden Tabellen nicht genutzt werden:"
   ]
  },
  {
   "cell_type": "code",
   "execution_count": 111,
   "metadata": {},
   "outputs": [
    {
     "name": "stdout",
     "output_type": "stream",
     "text": [
      "Produkt-Hersteller:\n",
      "False    539053\n",
      "True       6354\n",
      "Name: PRODUCTID, dtype: int64\n",
      "Produkt-Interaktionsklasse:\n",
      "False    142567\n",
      "True        178\n",
      "Name: PRODUCTID, dtype: int64\n"
     ]
    }
   ],
   "source": [
    "# Zuerst müssen die entsprechenden IDs in Form einer Liste vorliegen\n",
    "doubles_list = check_doubles_column.ID.to_list()\n",
    "\n",
    "# Abgleich von Liste und entsprechenden Fremdschlüsseltabellen\n",
    "# Produkt-Hersteller\n",
    "print('Produkt-Hersteller:')\n",
    "print(product_company.PRODUCTID.isin(doubles_list).value_counts())\n",
    "\n",
    "# Produkt-Interaktionsklasse\n",
    "print('Produkt-Interaktionsklasse:')\n",
    "print(product_interaction_class.PRODUCTID.isin(doubles_list).value_counts())"
   ]
  },
  {
   "cell_type": "markdown",
   "metadata": {},
   "source": [
    "## Hersteller"
   ]
  },
  {
   "cell_type": "code",
   "execution_count": 48,
   "metadata": {},
   "outputs": [
    {
     "data": {
      "text/html": [
       "<div>\n",
       "<style scoped>\n",
       "    .dataframe tbody tr th:only-of-type {\n",
       "        vertical-align: middle;\n",
       "    }\n",
       "\n",
       "    .dataframe tbody tr th {\n",
       "        vertical-align: top;\n",
       "    }\n",
       "\n",
       "    .dataframe thead th {\n",
       "        text-align: right;\n",
       "    }\n",
       "</style>\n",
       "<table border=\"1\" class=\"dataframe\">\n",
       "  <thead>\n",
       "    <tr style=\"text-align: right;\">\n",
       "      <th></th>\n",
       "      <th>ID</th>\n",
       "      <th>NAME</th>\n",
       "    </tr>\n",
       "  </thead>\n",
       "  <tbody>\n",
       "    <tr>\n",
       "      <th>0</th>\n",
       "      <td>1</td>\n",
       "      <td>AbbVie Deutschland GmbH &amp; Co. KG</td>\n",
       "    </tr>\n",
       "    <tr>\n",
       "      <th>1</th>\n",
       "      <td>3</td>\n",
       "      <td>3M Medica Zweigniederlassung 3M Deutschland GmbH</td>\n",
       "    </tr>\n",
       "    <tr>\n",
       "      <th>2</th>\n",
       "      <td>5</td>\n",
       "      <td>aar Pharma GmbH u. Co. KG</td>\n",
       "    </tr>\n",
       "    <tr>\n",
       "      <th>3</th>\n",
       "      <td>10</td>\n",
       "      <td>AktivPharma GmbH &amp; Co. KG</td>\n",
       "    </tr>\n",
       "    <tr>\n",
       "      <th>4</th>\n",
       "      <td>12</td>\n",
       "      <td>Alcon Pharma GmbH</td>\n",
       "    </tr>\n",
       "  </tbody>\n",
       "</table>\n",
       "</div>"
      ],
      "text/plain": [
       "   ID                                              NAME\n",
       "0   1                  AbbVie Deutschland GmbH & Co. KG\n",
       "1   3  3M Medica Zweigniederlassung 3M Deutschland GmbH\n",
       "2   5                         aar Pharma GmbH u. Co. KG\n",
       "3  10                         AktivPharma GmbH & Co. KG\n",
       "4  12                                 Alcon Pharma GmbH"
      ]
     },
     "execution_count": 48,
     "metadata": {},
     "output_type": "execute_result"
    }
   ],
   "source": [
    "company.head()"
   ]
  },
  {
   "cell_type": "code",
   "execution_count": 104,
   "metadata": {},
   "outputs": [
    {
     "name": "stdout",
     "output_type": "stream",
     "text": [
      "Leere Zeilen pro Spalte: \n",
      "ID      0\n",
      "NAME    0\n",
      "dtype: int64\n",
      "----------------------------------------------\n",
      "Dubletten basierend auf allen Spalten:\n",
      "Empty DataFrame\n",
      "Columns: [ID, NAME]\n",
      "Index: []\n",
      "Dubletten basierend auf der Spalte 'NAME':\n",
      "Empty DataFrame\n",
      "Columns: [ID, NAME]\n",
      "Index: []\n"
     ]
    }
   ],
   "source": [
    "# Ausgabe der auffindbaren leeren Zeilen pro Spalte\n",
    "print('Leere Zeilen pro Spalte: ' + '\\n'+ str(company.isnull().sum()) + \n",
    "      '\\n' + '----------------------------------------------') #Brake zur besseren Übersicht\n",
    "\n",
    "# Dublettenprüfung\n",
    "company_double = company[company.duplicated()]\n",
    " \n",
    "print(\"Dubletten basierend auf allen Spalten:\")\n",
    "print(company_double)\n",
    "\n",
    "# Dublettenprüfung nur auf Basis der Hersteller-ID\n",
    "check_doubles_column = company[company.duplicated(['NAME'])]\n",
    "print(\"Dubletten basierend auf der Spalte 'NAME':\", check_doubles_column, sep='\\n')"
   ]
  },
  {
   "cell_type": "markdown",
   "metadata": {},
   "source": [
    "## Hersteller-Adresse"
   ]
  },
  {
   "cell_type": "code",
   "execution_count": 54,
   "metadata": {},
   "outputs": [
    {
     "data": {
      "text/html": [
       "<div>\n",
       "<style scoped>\n",
       "    .dataframe tbody tr th:only-of-type {\n",
       "        vertical-align: middle;\n",
       "    }\n",
       "\n",
       "    .dataframe tbody tr th {\n",
       "        vertical-align: top;\n",
       "    }\n",
       "\n",
       "    .dataframe thead th {\n",
       "        text-align: right;\n",
       "    }\n",
       "</style>\n",
       "<table border=\"1\" class=\"dataframe\">\n",
       "  <thead>\n",
       "    <tr style=\"text-align: right;\">\n",
       "      <th></th>\n",
       "      <th>ID</th>\n",
       "      <th>COMPANYID</th>\n",
       "      <th>ZIP</th>\n",
       "      <th>CITY</th>\n",
       "      <th>STREET</th>\n",
       "      <th>STREETNUMBER</th>\n",
       "    </tr>\n",
       "  </thead>\n",
       "  <tbody>\n",
       "    <tr>\n",
       "      <th>0</th>\n",
       "      <td>1</td>\n",
       "      <td>1</td>\n",
       "      <td>65189</td>\n",
       "      <td>Wiesbaden</td>\n",
       "      <td>Mainzer Str.</td>\n",
       "      <td>81</td>\n",
       "    </tr>\n",
       "    <tr>\n",
       "      <th>1</th>\n",
       "      <td>3</td>\n",
       "      <td>3</td>\n",
       "      <td>41453</td>\n",
       "      <td>Neuss</td>\n",
       "      <td>Hammfelddamm</td>\n",
       "      <td>11</td>\n",
       "    </tr>\n",
       "    <tr>\n",
       "      <th>2</th>\n",
       "      <td>5</td>\n",
       "      <td>5</td>\n",
       "      <td>42853</td>\n",
       "      <td>Remscheid</td>\n",
       "      <td>Alleestr.</td>\n",
       "      <td>11</td>\n",
       "    </tr>\n",
       "    <tr>\n",
       "      <th>3</th>\n",
       "      <td>10</td>\n",
       "      <td>10</td>\n",
       "      <td>69412</td>\n",
       "      <td>Eberbach</td>\n",
       "      <td>Klausenweg</td>\n",
       "      <td>12</td>\n",
       "    </tr>\n",
       "    <tr>\n",
       "      <th>4</th>\n",
       "      <td>12</td>\n",
       "      <td>12</td>\n",
       "      <td>79108</td>\n",
       "      <td>Freiburg</td>\n",
       "      <td>Blankreutestr.</td>\n",
       "      <td>1</td>\n",
       "    </tr>\n",
       "  </tbody>\n",
       "</table>\n",
       "</div>"
      ],
      "text/plain": [
       "   ID  COMPANYID    ZIP       CITY          STREET STREETNUMBER\n",
       "0   1          1  65189  Wiesbaden    Mainzer Str.           81\n",
       "1   3          3  41453      Neuss    Hammfelddamm           11\n",
       "2   5          5  42853  Remscheid       Alleestr.           11\n",
       "3  10         10  69412   Eberbach      Klausenweg           12\n",
       "4  12         12  79108   Freiburg  Blankreutestr.            1"
      ]
     },
     "execution_count": 54,
     "metadata": {},
     "output_type": "execute_result"
    }
   ],
   "source": [
    "company_adress.head()"
   ]
  },
  {
   "cell_type": "code",
   "execution_count": 103,
   "metadata": {},
   "outputs": [
    {
     "name": "stdout",
     "output_type": "stream",
     "text": [
      "Leere Zeilen pro Spalte: \n",
      "ID                0\n",
      "COMPANYID         0\n",
      "ZIP              49\n",
      "CITY             17\n",
      "STREET           20\n",
      "STREETNUMBER    215\n",
      "dtype: int64\n",
      "----------------------------------------------\n",
      "Dubletten basierend auf allen Spalten:\n",
      "Empty DataFrame\n",
      "Columns: [ID, COMPANYID, ZIP, CITY, STREET, STREETNUMBER]\n",
      "Index: []\n",
      "Dubletten basierend auf der Spalte 'COMPANYID':\n",
      "Empty DataFrame\n",
      "Columns: [ID, COMPANYID, ZIP, CITY, STREET, STREETNUMBER]\n",
      "Index: []\n"
     ]
    }
   ],
   "source": [
    "# Ausgabe der auffindbaren leeren Zeilen pro Spalte\n",
    "print('Leere Zeilen pro Spalte: ' + '\\n'+ str(company_adress.isnull().sum()) + \n",
    "      '\\n' + '----------------------------------------------') #Brake zur besseren Übersicht\n",
    "\n",
    "# Dublettenprüfung\n",
    "company_adress_double = company_adress[company_adress.duplicated()]\n",
    " \n",
    "print(\"Dubletten basierend auf allen Spalten:\")\n",
    "print(company_adress_double)\n",
    "\n",
    "# Dublettenprüfung nur auf Basis der Hersteller-ID\n",
    "check_doubles_column = company_adress[company_adress.duplicated(['COMPANYID'])]\n",
    "print(\"Dubletten basierend auf der Spalte 'COMPANYID':\", check_doubles_column, sep='\\n')"
   ]
  },
  {
   "cell_type": "code",
   "execution_count": 70,
   "metadata": {},
   "outputs": [
    {
     "data": {
      "text/html": [
       "<div>\n",
       "<style scoped>\n",
       "    .dataframe tbody tr th:only-of-type {\n",
       "        vertical-align: middle;\n",
       "    }\n",
       "\n",
       "    .dataframe tbody tr th {\n",
       "        vertical-align: top;\n",
       "    }\n",
       "\n",
       "    .dataframe thead th {\n",
       "        text-align: right;\n",
       "    }\n",
       "</style>\n",
       "<table border=\"1\" class=\"dataframe\">\n",
       "  <thead>\n",
       "    <tr style=\"text-align: right;\">\n",
       "      <th></th>\n",
       "      <th>ID</th>\n",
       "      <th>COMPANYID</th>\n",
       "      <th>ZIP</th>\n",
       "      <th>CITY</th>\n",
       "      <th>STREET</th>\n",
       "      <th>STREETNUMBER</th>\n",
       "    </tr>\n",
       "  </thead>\n",
       "  <tbody>\n",
       "    <tr>\n",
       "      <th>19</th>\n",
       "      <td>70</td>\n",
       "      <td>70</td>\n",
       "      <td>NaN</td>\n",
       "      <td>NaN</td>\n",
       "      <td>NaN</td>\n",
       "      <td>NaN</td>\n",
       "    </tr>\n",
       "    <tr>\n",
       "      <th>135</th>\n",
       "      <td>483</td>\n",
       "      <td>483</td>\n",
       "      <td>NaN</td>\n",
       "      <td>NaN</td>\n",
       "      <td>NaN</td>\n",
       "      <td>NaN</td>\n",
       "    </tr>\n",
       "    <tr>\n",
       "      <th>401</th>\n",
       "      <td>13541</td>\n",
       "      <td>13556</td>\n",
       "      <td>NaN</td>\n",
       "      <td>NaN</td>\n",
       "      <td>NaN</td>\n",
       "      <td>NaN</td>\n",
       "    </tr>\n",
       "    <tr>\n",
       "      <th>446</th>\n",
       "      <td>13701</td>\n",
       "      <td>13718</td>\n",
       "      <td>NaN</td>\n",
       "      <td>NaN</td>\n",
       "      <td>NaN</td>\n",
       "      <td>NaN</td>\n",
       "    </tr>\n",
       "    <tr>\n",
       "      <th>561</th>\n",
       "      <td>15854</td>\n",
       "      <td>15887</td>\n",
       "      <td>D09 ND91</td>\n",
       "      <td>Dublin</td>\n",
       "      <td>Suite 17 Northw. House Northw. Aven. Santry</td>\n",
       "      <td>NaN</td>\n",
       "    </tr>\n",
       "  </tbody>\n",
       "</table>\n",
       "</div>"
      ],
      "text/plain": [
       "        ID  COMPANYID       ZIP    CITY  \\\n",
       "19      70         70       NaN     NaN   \n",
       "135    483        483       NaN     NaN   \n",
       "401  13541      13556       NaN     NaN   \n",
       "446  13701      13718       NaN     NaN   \n",
       "561  15854      15887  D09 ND91  Dublin   \n",
       "\n",
       "                                          STREET STREETNUMBER  \n",
       "19                                           NaN          NaN  \n",
       "135                                          NaN          NaN  \n",
       "401                                          NaN          NaN  \n",
       "446                                          NaN          NaN  \n",
       "561  Suite 17 Northw. House Northw. Aven. Santry          NaN  "
      ]
     },
     "execution_count": 70,
     "metadata": {},
     "output_type": "execute_result"
    }
   ],
   "source": [
    "# Überprüfen der fehlenden Werte\n",
    "company_adress[pd.to_numeric(company_adress['ZIP'], errors='coerce').isnull()].head()"
   ]
  },
  {
   "cell_type": "markdown",
   "metadata": {},
   "source": [
    "## Produkt-Hersteller"
   ]
  },
  {
   "cell_type": "code",
   "execution_count": 72,
   "metadata": {},
   "outputs": [
    {
     "data": {
      "text/html": [
       "<div>\n",
       "<style scoped>\n",
       "    .dataframe tbody tr th:only-of-type {\n",
       "        vertical-align: middle;\n",
       "    }\n",
       "\n",
       "    .dataframe tbody tr th {\n",
       "        vertical-align: top;\n",
       "    }\n",
       "\n",
       "    .dataframe thead th {\n",
       "        text-align: right;\n",
       "    }\n",
       "</style>\n",
       "<table border=\"1\" class=\"dataframe\">\n",
       "  <thead>\n",
       "    <tr style=\"text-align: right;\">\n",
       "      <th></th>\n",
       "      <th>PRODUCTID</th>\n",
       "      <th>COMPANYID</th>\n",
       "    </tr>\n",
       "  </thead>\n",
       "  <tbody>\n",
       "    <tr>\n",
       "      <th>0</th>\n",
       "      <td>14</td>\n",
       "      <td>15777</td>\n",
       "    </tr>\n",
       "    <tr>\n",
       "      <th>1</th>\n",
       "      <td>21</td>\n",
       "      <td>946</td>\n",
       "    </tr>\n",
       "    <tr>\n",
       "      <th>2</th>\n",
       "      <td>30</td>\n",
       "      <td>12</td>\n",
       "    </tr>\n",
       "    <tr>\n",
       "      <th>3</th>\n",
       "      <td>32</td>\n",
       "      <td>946</td>\n",
       "    </tr>\n",
       "    <tr>\n",
       "      <th>4</th>\n",
       "      <td>33</td>\n",
       "      <td>946</td>\n",
       "    </tr>\n",
       "  </tbody>\n",
       "</table>\n",
       "</div>"
      ],
      "text/plain": [
       "   PRODUCTID  COMPANYID\n",
       "0         14      15777\n",
       "1         21        946\n",
       "2         30         12\n",
       "3         32        946\n",
       "4         33        946"
      ]
     },
     "execution_count": 72,
     "metadata": {},
     "output_type": "execute_result"
    }
   ],
   "source": [
    "product_company.head()"
   ]
  },
  {
   "cell_type": "code",
   "execution_count": 73,
   "metadata": {},
   "outputs": [
    {
     "name": "stdout",
     "output_type": "stream",
     "text": [
      "Leere Zeilen pro Spalte: \n",
      "PRODUCTID    0\n",
      "COMPANYID    0\n",
      "dtype: int64\n",
      "----------------------------------------------\n",
      "Dubletten basierend auf allen Spalten:\n",
      "Empty DataFrame\n",
      "Columns: [PRODUCTID, COMPANYID]\n",
      "Index: []\n"
     ]
    }
   ],
   "source": [
    "# Ausgabe der auffindbaren leeren Zeilen pro Spalte\n",
    "print('Leere Zeilen pro Spalte: ' + '\\n'+ str(product_company.isnull().sum()) + \n",
    "      '\\n' + '----------------------------------------------') #Brake zur besseren Übersicht\n",
    "\n",
    "# Dublettenprüfung\n",
    "product_company_double = product_company[product_company.duplicated()]\n",
    " \n",
    "print(\"Dubletten basierend auf allen Spalten:\")\n",
    "print(product_company_double)"
   ]
  },
  {
   "cell_type": "markdown",
   "metadata": {},
   "source": [
    "## Interaktionen"
   ]
  },
  {
   "cell_type": "code",
   "execution_count": 75,
   "metadata": {},
   "outputs": [
    {
     "data": {
      "text/html": [
       "<div>\n",
       "<style scoped>\n",
       "    .dataframe tbody tr th:only-of-type {\n",
       "        vertical-align: middle;\n",
       "    }\n",
       "\n",
       "    .dataframe tbody tr th {\n",
       "        vertical-align: top;\n",
       "    }\n",
       "\n",
       "    .dataframe thead th {\n",
       "        text-align: right;\n",
       "    }\n",
       "</style>\n",
       "<table border=\"1\" class=\"dataframe\">\n",
       "  <thead>\n",
       "    <tr style=\"text-align: right;\">\n",
       "      <th></th>\n",
       "      <th>INTERACTIONCLASSID1</th>\n",
       "      <th>INTERACTIONCLASSID2</th>\n",
       "      <th>SEVERITY</th>\n",
       "      <th>LIKELIHOOD</th>\n",
       "    </tr>\n",
       "  </thead>\n",
       "  <tbody>\n",
       "    <tr>\n",
       "      <th>0</th>\n",
       "      <td>1</td>\n",
       "      <td>12317</td>\n",
       "      <td>mittelschwer</td>\n",
       "      <td>Begrenzt untersucht.</td>\n",
       "    </tr>\n",
       "    <tr>\n",
       "      <th>1</th>\n",
       "      <td>4</td>\n",
       "      <td>450</td>\n",
       "      <td>mittelschwer</td>\n",
       "      <td>Begrenzt untersucht.</td>\n",
       "    </tr>\n",
       "    <tr>\n",
       "      <th>2</th>\n",
       "      <td>4</td>\n",
       "      <td>10205</td>\n",
       "      <td>geringfügig</td>\n",
       "      <td>Nicht erwiesen</td>\n",
       "    </tr>\n",
       "    <tr>\n",
       "      <th>3</th>\n",
       "      <td>5</td>\n",
       "      <td>148</td>\n",
       "      <td>Vorsicht</td>\n",
       "      <td>Begrenzt untersucht.</td>\n",
       "    </tr>\n",
       "    <tr>\n",
       "      <th>4</th>\n",
       "      <td>5</td>\n",
       "      <td>190</td>\n",
       "      <td>Vorsicht</td>\n",
       "      <td>Begrenzt untersucht.</td>\n",
       "    </tr>\n",
       "  </tbody>\n",
       "</table>\n",
       "</div>"
      ],
      "text/plain": [
       "   INTERACTIONCLASSID1  INTERACTIONCLASSID2      SEVERITY  \\\n",
       "0                    1                12317  mittelschwer   \n",
       "1                    4                  450  mittelschwer   \n",
       "2                    4                10205   geringfügig   \n",
       "3                    5                  148      Vorsicht   \n",
       "4                    5                  190      Vorsicht   \n",
       "\n",
       "             LIKELIHOOD  \n",
       "0  Begrenzt untersucht.  \n",
       "1  Begrenzt untersucht.  \n",
       "2        Nicht erwiesen  \n",
       "3  Begrenzt untersucht.  \n",
       "4  Begrenzt untersucht.  "
      ]
     },
     "execution_count": 75,
     "metadata": {},
     "output_type": "execute_result"
    }
   ],
   "source": [
    "interaction.head()"
   ]
  },
  {
   "cell_type": "code",
   "execution_count": 115,
   "metadata": {},
   "outputs": [
    {
     "name": "stdout",
     "output_type": "stream",
     "text": [
      "Leere Zeilen pro Spalte: \n",
      "INTERACTIONCLASSID1    0\n",
      "INTERACTIONCLASSID2    0\n",
      "SEVERITY               0\n",
      "LIKELIHOOD             0\n",
      "dtype: int64\n",
      "----------------------------------------------\n",
      "Dubletten basierend auf allen Spalten:\n",
      "Empty DataFrame\n",
      "Columns: [INTERACTIONCLASSID1, INTERACTIONCLASSID2, SEVERITY, LIKELIHOOD]\n",
      "Index: []\n",
      "Dubletten basierend auf den Spalten 'INTERACTIONCLASSID1/2':\n",
      "Empty DataFrame\n",
      "Columns: [INTERACTIONCLASSID1, INTERACTIONCLASSID2, SEVERITY, LIKELIHOOD]\n",
      "Index: []\n"
     ]
    }
   ],
   "source": [
    "# Ausgabe der auffindbaren leeren Zeilen pro Spalte\n",
    "print('Leere Zeilen pro Spalte: ' + '\\n'+ str(interaction.isnull().sum()) + \n",
    "      '\\n' + '----------------------------------------------') #Brake zur besseren Übersicht\n",
    "\n",
    "# Dublettenprüfung\n",
    "interaction_double = interaction[interaction.duplicated()]\n",
    " \n",
    "print(\"Dubletten basierend auf allen Spalten:\")\n",
    "print(interaction_double)\n",
    "\n",
    "# Dublettenprüfung nur auf Basis der Interaktionsklassen-IDs (=Interaktionen)\n",
    "check_doubles_column = interaction[interaction.duplicated(['INTERACTIONCLASSID1', 'INTERACTIONCLASSID2'])]\n",
    "print(\"Dubletten basierend auf den Spalten 'INTERACTIONCLASSID1/2':\", check_doubles_column, sep='\\n')"
   ]
  },
  {
   "cell_type": "markdown",
   "metadata": {},
   "source": [
    "## Interaktionsklassen"
   ]
  },
  {
   "cell_type": "code",
   "execution_count": 101,
   "metadata": {},
   "outputs": [
    {
     "data": {
      "text/html": [
       "<div>\n",
       "<style scoped>\n",
       "    .dataframe tbody tr th:only-of-type {\n",
       "        vertical-align: middle;\n",
       "    }\n",
       "\n",
       "    .dataframe tbody tr th {\n",
       "        vertical-align: top;\n",
       "    }\n",
       "\n",
       "    .dataframe thead th {\n",
       "        text-align: right;\n",
       "    }\n",
       "</style>\n",
       "<table border=\"1\" class=\"dataframe\">\n",
       "  <thead>\n",
       "    <tr style=\"text-align: right;\">\n",
       "      <th></th>\n",
       "      <th>INTERACTIONCLASSID</th>\n",
       "      <th>NAME</th>\n",
       "    </tr>\n",
       "  </thead>\n",
       "  <tbody>\n",
       "    <tr>\n",
       "      <th>1716</th>\n",
       "      <td>1001399</td>\n",
       "      <td>Darunavir</td>\n",
       "    </tr>\n",
       "    <tr>\n",
       "      <th>1717</th>\n",
       "      <td>1001406</td>\n",
       "      <td>Silodosin</td>\n",
       "    </tr>\n",
       "    <tr>\n",
       "      <th>1718</th>\n",
       "      <td>1001409</td>\n",
       "      <td>Arzneimittel, Bradykinin und Angioödem</td>\n",
       "    </tr>\n",
       "    <tr>\n",
       "      <th>1719</th>\n",
       "      <td>1001411</td>\n",
       "      <td>Arzneimittel, Bradykinin und Angioödem</td>\n",
       "    </tr>\n",
       "    <tr>\n",
       "      <th>1720</th>\n",
       "      <td>1001412</td>\n",
       "      <td>Methotrexat (oral)</td>\n",
       "    </tr>\n",
       "  </tbody>\n",
       "</table>\n",
       "</div>"
      ],
      "text/plain": [
       "      INTERACTIONCLASSID                                    NAME\n",
       "1716             1001399                               Darunavir\n",
       "1717             1001406                               Silodosin\n",
       "1718             1001409  Arzneimittel, Bradykinin und Angioödem\n",
       "1719             1001411  Arzneimittel, Bradykinin und Angioödem\n",
       "1720             1001412                      Methotrexat (oral)"
      ]
     },
     "execution_count": 101,
     "metadata": {},
     "output_type": "execute_result"
    }
   ],
   "source": [
    "interaction_class.tail()"
   ]
  },
  {
   "cell_type": "code",
   "execution_count": 86,
   "metadata": {},
   "outputs": [
    {
     "name": "stdout",
     "output_type": "stream",
     "text": [
      "Leere Zeilen pro Spalte: \n",
      "INTERACTIONCLASSID    0\n",
      "NAME                  0\n",
      "dtype: int64\n",
      "----------------------------------------------\n",
      "Dubletten basierend auf allen Spalten:\n",
      "Empty DataFrame\n",
      "Columns: [INTERACTIONCLASSID, NAME]\n",
      "Index: []\n",
      "Dubletten basierend auf der Spalte 'NAME':\n",
      "      INTERACTIONCLASSID                                    NAME\n",
      "693                12146                            Epoprostenol\n",
      "1137               12706                              Pentamidin\n",
      "1308               30008                            Levomethadon\n",
      "1317             1000022                             Deferoxamin\n",
      "1321             1000031                       Dextropropoxyphen\n",
      "...                  ...                                     ...\n",
      "1705             1001360                              Mirabegron\n",
      "1712             1001385                                Etoposid\n",
      "1716             1001399                               Darunavir\n",
      "1717             1001406                               Silodosin\n",
      "1719             1001411  Arzneimittel, Bradykinin und Angioödem\n",
      "\n",
      "[219 rows x 2 columns]\n"
     ]
    }
   ],
   "source": [
    "# Ausgabe der auffindbaren leeren Zeilen pro Spalte\n",
    "print('Leere Zeilen pro Spalte: ' + '\\n'+ str(interaction_class.isnull().sum()) + \n",
    "      '\\n' + '----------------------------------------------') #Brake zur besseren Übersicht\n",
    "\n",
    "# Dublettenprüfung\n",
    "interaction_class_double = interaction_class[interaction_class.duplicated()]\n",
    " \n",
    "print(\"Dubletten basierend auf allen Spalten:\")\n",
    "print(interaction_class_double)\n",
    "\n",
    "# Dublettenprüfung auf Basis des Namens\n",
    "check_doubles_column = interaction_class[interaction_class.duplicated(['NAME'])]\n",
    "print(\"Dubletten basierend auf der Spalte 'NAME':\", check_doubles_column, sep='\\n')"
   ]
  },
  {
   "cell_type": "markdown",
   "metadata": {},
   "source": [
    "Offensichtlich gibt es eine Reihe von Interaktionsklassen (219 Stück), die doppelt gepflegt sind. Zur Überprüfung, ob diese entfernt werden können, weil sie in Tabellen, in denen die Interaktionsklassen-ID als Fremdnschlüssel hinterlegt ist, nicht gebraucht werden, erfolgt ein Abgleich mit diesen Tabellen."
   ]
  },
  {
   "cell_type": "code",
   "execution_count": 99,
   "metadata": {},
   "outputs": [
    {
     "name": "stdout",
     "output_type": "stream",
     "text": [
      "Interaktionen:\n",
      "False    6902\n",
      "True      717\n",
      "Name: INTERACTIONCLASSID1, dtype: int64\n",
      "Produkt-Interaktionsklasse:\n",
      "False    131358\n",
      "True      11387\n",
      "Name: INTERACTIONCLASSID, dtype: int64\n"
     ]
    }
   ],
   "source": [
    "# Zuerst müssen die entsprechenden IDs in Form einer Liste vorliegen\n",
    "doubles_list = check_doubles_column.INTERACTIONCLASSID.to_list()\n",
    "\n",
    "# Abgleich von Liste und entsprechenden Fremdschlüsseltabellen\n",
    "# Interaktionen\n",
    "print('Interaktionen:')\n",
    "print(interaction.INTERACTIONCLASSID1.isin(doubles_list).value_counts())\n",
    "\n",
    "# Produkt-Interaktionsklasse\n",
    "print('Produkt-Interaktionsklasse:')\n",
    "print(product_interaction_class.INTERACTIONCLASSID.isin(doubles_list).value_counts())"
   ]
  },
  {
   "cell_type": "markdown",
   "metadata": {},
   "source": [
    "<b>Ergebnis:</b><br>\n",
    "Sowohl in der Tabelle Interaktionen als auch in Produkt-Interaktionen sind die Dubletten in Verwendung. Die Funktion der App wird durch die Dubletten nicht beeinträchtet. Ein Ersetzen der \"alten\" IDs ist nicht zwangsläufig notwendig."
   ]
  },
  {
   "cell_type": "markdown",
   "metadata": {},
   "source": [
    "## Produkt-Interaktion"
   ]
  },
  {
   "cell_type": "code",
   "execution_count": 116,
   "metadata": {},
   "outputs": [
    {
     "data": {
      "text/html": [
       "<div>\n",
       "<style scoped>\n",
       "    .dataframe tbody tr th:only-of-type {\n",
       "        vertical-align: middle;\n",
       "    }\n",
       "\n",
       "    .dataframe tbody tr th {\n",
       "        vertical-align: top;\n",
       "    }\n",
       "\n",
       "    .dataframe thead th {\n",
       "        text-align: right;\n",
       "    }\n",
       "</style>\n",
       "<table border=\"1\" class=\"dataframe\">\n",
       "  <thead>\n",
       "    <tr style=\"text-align: right;\">\n",
       "      <th></th>\n",
       "      <th>INTERACTIONCLASSID</th>\n",
       "      <th>PRODUCTID</th>\n",
       "    </tr>\n",
       "  </thead>\n",
       "  <tbody>\n",
       "    <tr>\n",
       "      <th>0</th>\n",
       "      <td>1</td>\n",
       "      <td>3439</td>\n",
       "    </tr>\n",
       "    <tr>\n",
       "      <th>1</th>\n",
       "      <td>1</td>\n",
       "      <td>4553</td>\n",
       "    </tr>\n",
       "    <tr>\n",
       "      <th>2</th>\n",
       "      <td>1</td>\n",
       "      <td>7978</td>\n",
       "    </tr>\n",
       "    <tr>\n",
       "      <th>3</th>\n",
       "      <td>1</td>\n",
       "      <td>11975</td>\n",
       "    </tr>\n",
       "    <tr>\n",
       "      <th>4</th>\n",
       "      <td>1</td>\n",
       "      <td>13502</td>\n",
       "    </tr>\n",
       "  </tbody>\n",
       "</table>\n",
       "</div>"
      ],
      "text/plain": [
       "   INTERACTIONCLASSID  PRODUCTID\n",
       "0                   1       3439\n",
       "1                   1       4553\n",
       "2                   1       7978\n",
       "3                   1      11975\n",
       "4                   1      13502"
      ]
     },
     "execution_count": 116,
     "metadata": {},
     "output_type": "execute_result"
    }
   ],
   "source": [
    "product_interaction_class.head()"
   ]
  },
  {
   "cell_type": "code",
   "execution_count": 81,
   "metadata": {},
   "outputs": [
    {
     "name": "stdout",
     "output_type": "stream",
     "text": [
      "Leere Zeilen pro Spalte: \n",
      "INTERACTIONCLASSID    0\n",
      "PRODUCTID             0\n",
      "dtype: int64\n",
      "----------------------------------------------\n",
      "Dubletten basierend auf allen Spalten:\n",
      "Empty DataFrame\n",
      "Columns: [INTERACTIONCLASSID, PRODUCTID]\n",
      "Index: []\n"
     ]
    }
   ],
   "source": [
    "# Ausgabe der auffindbaren leeren Zeilen pro Spalte\n",
    "print('Leere Zeilen pro Spalte: ' + '\\n'+ str(product_interaction_class.isnull().sum()) + \n",
    "      '\\n' + '----------------------------------------------') #Brake zur besseren Übersicht\n",
    "\n",
    "# Dublettenprüfung\n",
    "product_interaction_class_double = product_interaction_class[product_interaction_class.duplicated()]\n",
    " \n",
    "print(\"Dubletten basierend auf allen Spalten:\")\n",
    "print(product_interaction_class_double)"
   ]
  }
 ],
 "metadata": {
  "kernelspec": {
   "display_name": "Python 3",
   "language": "python",
   "name": "python3"
  },
  "language_info": {
   "codemirror_mode": {
    "name": "ipython",
    "version": 3
   },
   "file_extension": ".py",
   "mimetype": "text/x-python",
   "name": "python",
   "nbconvert_exporter": "python",
   "pygments_lexer": "ipython3",
   "version": "3.7.2"
  }
 },
 "nbformat": 4,
 "nbformat_minor": 2
}
